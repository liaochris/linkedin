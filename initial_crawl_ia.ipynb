{
 "cells": [
  {
   "cell_type": "code",
   "execution_count": 9,
   "id": "192ea94f",
   "metadata": {},
   "outputs": [],
   "source": [
    "import numpy as np\n",
    "import cdx_toolkit\n",
    "import os\n",
    "from joblib import Parallel, delayed\n",
    "import multiprocessing"
   ]
  },
  {
   "cell_type": "code",
   "execution_count": 5,
   "id": "32c5d76c",
   "metadata": {},
   "outputs": [
    {
     "name": "stdout",
     "output_type": "stream",
     "text": [
      "Directory already made\n"
     ]
    }
   ],
   "source": [
    "try:\n",
    "    os.mkdir(\"ia\")\n",
    "except:\n",
    "    print(\"Directory already made\")"
   ]
  },
  {
   "cell_type": "code",
   "execution_count": 70,
   "id": "97858db1",
   "metadata": {
    "scrolled": true
   },
   "outputs": [
    {
     "name": "stdout",
     "output_type": "stream",
     "text": [
      "Year:2006, Total Extracted:18395, Total Unique: 4853\n",
      "Year:2007, Total Extracted:178980, Total Unique: 93252\n",
      "Year:2008, Total Extracted:358816, Total Unique: 219806\n",
      "Year:2009, Total Extracted:307525, Total Unique: 252939\n",
      "Year:2010, Total Extracted:266612, Total Unique: 219421\n",
      "Year:2011, Total Extracted:55756, Total Unique: 46736\n",
      "Year:2012, Total Extracted:3379, Total Unique: 1854\n",
      "Year:2013, Total Extracted:155244, Total Unique: 142690\n",
      "Year:2014, Total Extracted:101845, Total Unique: 87987\n",
      "Year:2015, Total Extracted:251763, Total Unique: 150178\n",
      "Year:2016, Total Extracted:103279, Total Unique: 89386\n"
     ]
    }
   ],
   "source": [
    "cdx = cdx_toolkit.CDXFetcher(source='ia')\n",
    "url = 'https://www.linkedin.com/in/*'\n",
    "\n",
    "for year in np.arange(2006, 2017, 1):\n",
    "    lim = 1000000\n",
    "    objs = list(cdx.iter(url, from_ts=f'{year}01', to=f'{year+1}01', limit = lim, filter='status:200'))\n",
    "    \n",
    "    print(f\"Year:{year}, Total Extracted:{len(objs)}, Total Unique: {len(set([objs[i]['urlkey'] for i in range(len(objs))]))}\")"
   ]
  },
  {
   "cell_type": "code",
   "execution_count": null,
   "id": "1e17e663",
   "metadata": {
    "scrolled": true
   },
   "outputs": [
    {
     "name": "stdout",
     "output_type": "stream",
     "text": [
      "CPU times: user 4 µs, sys: 2 µs, total: 6 µs\n",
      "Wall time: 13.4 µs\n",
      "Obtained 2007\n"
     ]
    },
    {
     "name": "stderr",
     "output_type": "stream",
     "text": [
      "11 failures for url https://web.archive.org/web/20080110154425id_/http%3A//www.linkedin.com%3A80/in/%2520davidcrais None: HTTPSConnectionPool(host='web.archive.org', port=443): Max retries exceeded with url: /web/20080110154425id_/http%3A//www.linkedin.com%3A80/in/%2520davidcrais (Caused by NewConnectionError('<urllib3.connection.HTTPSConnection object at 0x7f0ae4ae5d10>: Failed to establish a new connection: [Errno 111] Connection refused'))\n",
      "11 failures for url https://web.archive.org/web/20071201130844id_/http%3A//www.linkedin.com%3A80/in/ahmedmohammed None: HTTPSConnectionPool(host='web.archive.org', port=443): Max retries exceeded with url: /web/20071201130844id_/http%3A//www.linkedin.com%3A80/in/ahmedmohammed (Caused by NewConnectionError('<urllib3.connection.HTTPSConnection object at 0x7f09e2887b90>: Failed to establish a new connection: [Errno 111] Connection refused'))\n",
      "11 failures for url https://web.archive.org/web/20080113055041id_/http%3A//www.linkedin.com%3A80/in/charlottebabb None: HTTPSConnectionPool(host='web.archive.org', port=443): Max retries exceeded with url: /web/20080113055041id_/http%3A//www.linkedin.com%3A80/in/charlottebabb (Caused by NewConnectionError('<urllib3.connection.HTTPSConnection object at 0x7f0ae4cf7550>: Failed to establish a new connection: [Errno 111] Connection refused'))\n",
      "12 failures for url https://web.archive.org/web/20071201130844id_/http%3A//www.linkedin.com%3A80/in/ahmedmohammed None: HTTPSConnectionPool(host='web.archive.org', port=443): Max retries exceeded with url: /web/20071201130844id_/http%3A//www.linkedin.com%3A80/in/ahmedmohammed (Caused by NewConnectionError('<urllib3.connection.HTTPSConnection object at 0x7f09e2898ed0>: Failed to establish a new connection: [Errno 111] Connection refused'))\n",
      "12 failures for url https://web.archive.org/web/20080113055041id_/http%3A//www.linkedin.com%3A80/in/charlottebabb None: HTTPSConnectionPool(host='web.archive.org', port=443): Max retries exceeded with url: /web/20080113055041id_/http%3A//www.linkedin.com%3A80/in/charlottebabb (Caused by NewConnectionError('<urllib3.connection.HTTPSConnection object at 0x7f0ae4ce9e50>: Failed to establish a new connection: [Errno 111] Connection refused'))\n",
      "13 failures for url https://web.archive.org/web/20071201130844id_/http%3A//www.linkedin.com%3A80/in/ahmedmohammed None: HTTPSConnectionPool(host='web.archive.org', port=443): Max retries exceeded with url: /web/20071201130844id_/http%3A//www.linkedin.com%3A80/in/ahmedmohammed (Caused by NewConnectionError('<urllib3.connection.HTTPSConnection object at 0x7f09e284b810>: Failed to establish a new connection: [Errno 111] Connection refused'))\n",
      "13 failures for url https://web.archive.org/web/20080113055041id_/http%3A//www.linkedin.com%3A80/in/charlottebabb None: HTTPSConnectionPool(host='web.archive.org', port=443): Max retries exceeded with url: /web/20080113055041id_/http%3A//www.linkedin.com%3A80/in/charlottebabb (Caused by NewConnectionError('<urllib3.connection.HTTPSConnection object at 0x7f09e278dc90>: Failed to establish a new connection: [Errno 111] Connection refused'))\n",
      "14 failures for url https://web.archive.org/web/20071201130844id_/http%3A//www.linkedin.com%3A80/in/ahmedmohammed None: HTTPSConnectionPool(host='web.archive.org', port=443): Max retries exceeded with url: /web/20071201130844id_/http%3A//www.linkedin.com%3A80/in/ahmedmohammed (Caused by NewConnectionError('<urllib3.connection.HTTPSConnection object at 0x7f09e2887790>: Failed to establish a new connection: [Errno 111] Connection refused'))\n",
      "14 failures for url https://web.archive.org/web/20080113055041id_/http%3A//www.linkedin.com%3A80/in/charlottebabb None: HTTPSConnectionPool(host='web.archive.org', port=443): Max retries exceeded with url: /web/20080113055041id_/http%3A//www.linkedin.com%3A80/in/charlottebabb (Caused by NewConnectionError('<urllib3.connection.HTTPSConnection object at 0x7f0aed207250>: Failed to establish a new connection: [Errno 111] Connection refused'))\n",
      "15 failures for url https://web.archive.org/web/20071201130844id_/http%3A//www.linkedin.com%3A80/in/ahmedmohammed None: HTTPSConnectionPool(host='web.archive.org', port=443): Max retries exceeded with url: /web/20071201130844id_/http%3A//www.linkedin.com%3A80/in/ahmedmohammed (Caused by NewConnectionError('<urllib3.connection.HTTPSConnection object at 0x7f0ae4ad5910>: Failed to establish a new connection: [Errno 111] Connection refused'))\n",
      "16 failures for url https://web.archive.org/web/20071201130844id_/http%3A//www.linkedin.com%3A80/in/ahmedmohammed None: HTTPSConnectionPool(host='web.archive.org', port=443): Max retries exceeded with url: /web/20071201130844id_/http%3A//www.linkedin.com%3A80/in/ahmedmohammed (Caused by NewConnectionError('<urllib3.connection.HTTPSConnection object at 0x7f09e3af4410>: Failed to establish a new connection: [Errno 111] Connection refused'))\n",
      "15 failures for url https://web.archive.org/web/20080113055041id_/http%3A//www.linkedin.com%3A80/in/charlottebabb None: HTTPSConnectionPool(host='web.archive.org', port=443): Max retries exceeded with url: /web/20080113055041id_/http%3A//www.linkedin.com%3A80/in/charlottebabb (Caused by NewConnectionError('<urllib3.connection.HTTPSConnection object at 0x7f0ae4a90ed0>: Failed to establish a new connection: [Errno 111] Connection refused'))\n",
      "17 failures for url https://web.archive.org/web/20071201130844id_/http%3A//www.linkedin.com%3A80/in/ahmedmohammed None: HTTPSConnectionPool(host='web.archive.org', port=443): Max retries exceeded with url: /web/20071201130844id_/http%3A//www.linkedin.com%3A80/in/ahmedmohammed (Caused by NewConnectionError('<urllib3.connection.HTTPSConnection object at 0x7f0ae4a8d490>: Failed to establish a new connection: [Errno 111] Connection refused'))\n",
      "16 failures for url https://web.archive.org/web/20080113055041id_/http%3A//www.linkedin.com%3A80/in/charlottebabb None: HTTPSConnectionPool(host='web.archive.org', port=443): Max retries exceeded with url: /web/20080113055041id_/http%3A//www.linkedin.com%3A80/in/charlottebabb (Caused by NewConnectionError('<urllib3.connection.HTTPSConnection object at 0x7f0ae4acf1d0>: Failed to establish a new connection: [Errno 111] Connection refused'))\n",
      "11 failures for url https://web.archive.org/web/20071118232058id_/http%3A//www.linkedin.com%3A80/in/0000000 None: HTTPSConnectionPool(host='web.archive.org', port=443): Max retries exceeded with url: /web/20071118232058id_/http%3A//www.linkedin.com%3A80/in/0000000 (Caused by NewConnectionError('<urllib3.connection.HTTPSConnection object at 0x7f0ae4acd150>: Failed to establish a new connection: [Errno 111] Connection refused'))\n",
      "18 failures for url https://web.archive.org/web/20071201130844id_/http%3A//www.linkedin.com%3A80/in/ahmedmohammed None: HTTPSConnectionPool(host='web.archive.org', port=443): Max retries exceeded with url: /web/20071201130844id_/http%3A//www.linkedin.com%3A80/in/ahmedmohammed (Caused by NewConnectionError('<urllib3.connection.HTTPSConnection object at 0x7f09e2779850>: Failed to establish a new connection: [Errno 111] Connection refused'))\n",
      "17 failures for url https://web.archive.org/web/20080113055041id_/http%3A//www.linkedin.com%3A80/in/charlottebabb None: HTTPSConnectionPool(host='web.archive.org', port=443): Max retries exceeded with url: /web/20080113055041id_/http%3A//www.linkedin.com%3A80/in/charlottebabb (Caused by NewConnectionError('<urllib3.connection.HTTPSConnection object at 0x7f0ae4cf7290>: Failed to establish a new connection: [Errno 111] Connection refused'))\n",
      "12 failures for url https://web.archive.org/web/20071118232058id_/http%3A//www.linkedin.com%3A80/in/0000000 None: HTTPSConnectionPool(host='web.archive.org', port=443): Max retries exceeded with url: /web/20071118232058id_/http%3A//www.linkedin.com%3A80/in/0000000 (Caused by NewConnectionError('<urllib3.connection.HTTPSConnection object at 0x7f09e2855c50>: Failed to establish a new connection: [Errno 111] Connection refused'))\n",
      "19 failures for url https://web.archive.org/web/20071201130844id_/http%3A//www.linkedin.com%3A80/in/ahmedmohammed None: HTTPSConnectionPool(host='web.archive.org', port=443): Max retries exceeded with url: /web/20071201130844id_/http%3A//www.linkedin.com%3A80/in/ahmedmohammed (Caused by NewConnectionError('<urllib3.connection.HTTPSConnection object at 0x7f09e284bd10>: Failed to establish a new connection: [Errno 111] Connection refused'))\n"
     ]
    },
    {
     "name": "stderr",
     "output_type": "stream",
     "text": [
      "18 failures for url https://web.archive.org/web/20080113055041id_/http%3A//www.linkedin.com%3A80/in/charlottebabb None: HTTPSConnectionPool(host='web.archive.org', port=443): Max retries exceeded with url: /web/20080113055041id_/http%3A//www.linkedin.com%3A80/in/charlottebabb (Caused by NewConnectionError('<urllib3.connection.HTTPSConnection object at 0x7f09e285c1d0>: Failed to establish a new connection: [Errno 111] Connection refused'))\n",
      "13 failures for url https://web.archive.org/web/20071118232058id_/http%3A//www.linkedin.com%3A80/in/0000000 None: HTTPSConnectionPool(host='web.archive.org', port=443): Max retries exceeded with url: /web/20071118232058id_/http%3A//www.linkedin.com%3A80/in/0000000 (Caused by NewConnectionError('<urllib3.connection.HTTPSConnection object at 0x7f09e3a48fd0>: Failed to establish a new connection: [Errno 111] Connection refused'))\n",
      "20 failures for url https://web.archive.org/web/20071201130844id_/http%3A//www.linkedin.com%3A80/in/ahmedmohammed None: HTTPSConnectionPool(host='web.archive.org', port=443): Max retries exceeded with url: /web/20071201130844id_/http%3A//www.linkedin.com%3A80/in/ahmedmohammed (Caused by NewConnectionError('<urllib3.connection.HTTPSConnection object at 0x7f09e282bb90>: Failed to establish a new connection: [Errno 111] Connection refused'))\n",
      "19 failures for url https://web.archive.org/web/20080113055041id_/http%3A//www.linkedin.com%3A80/in/charlottebabb None: HTTPSConnectionPool(host='web.archive.org', port=443): Max retries exceeded with url: /web/20080113055041id_/http%3A//www.linkedin.com%3A80/in/charlottebabb (Caused by NewConnectionError('<urllib3.connection.HTTPSConnection object at 0x7f0ae4acf810>: Failed to establish a new connection: [Errno 111] Connection refused'))\n",
      "14 failures for url https://web.archive.org/web/20071118232058id_/http%3A//www.linkedin.com%3A80/in/0000000 None: HTTPSConnectionPool(host='web.archive.org', port=443): Max retries exceeded with url: /web/20071118232058id_/http%3A//www.linkedin.com%3A80/in/0000000 (Caused by NewConnectionError('<urllib3.connection.HTTPSConnection object at 0x7f0ae4ae56d0>: Failed to establish a new connection: [Errno 111] Connection refused'))\n",
      "21 failures for url https://web.archive.org/web/20071201130844id_/http%3A//www.linkedin.com%3A80/in/ahmedmohammed None: HTTPSConnectionPool(host='web.archive.org', port=443): Max retries exceeded with url: /web/20071201130844id_/http%3A//www.linkedin.com%3A80/in/ahmedmohammed (Caused by NewConnectionError('<urllib3.connection.HTTPSConnection object at 0x7f0ae4a8df90>: Failed to establish a new connection: [Errno 111] Connection refused'))\n",
      "20 failures for url https://web.archive.org/web/20080113055041id_/http%3A//www.linkedin.com%3A80/in/charlottebabb None: HTTPSConnectionPool(host='web.archive.org', port=443): Max retries exceeded with url: /web/20080113055041id_/http%3A//www.linkedin.com%3A80/in/charlottebabb (Caused by NewConnectionError('<urllib3.connection.HTTPSConnection object at 0x7f09e2779cd0>: Failed to establish a new connection: [Errno 111] Connection refused'))\n",
      "15 failures for url https://web.archive.org/web/20071118232058id_/http%3A//www.linkedin.com%3A80/in/0000000 None: HTTPSConnectionPool(host='web.archive.org', port=443): Max retries exceeded with url: /web/20071118232058id_/http%3A//www.linkedin.com%3A80/in/0000000 (Caused by NewConnectionError('<urllib3.connection.HTTPSConnection object at 0x7f09e3a41f10>: Failed to establish a new connection: [Errno 111] Connection refused'))\n",
      "21 failures for url https://web.archive.org/web/20080113055041id_/http%3A//www.linkedin.com%3A80/in/charlottebabb None: HTTPSConnectionPool(host='web.archive.org', port=443): Max retries exceeded with url: /web/20080113055041id_/http%3A//www.linkedin.com%3A80/in/charlottebabb (Caused by NewConnectionError('<urllib3.connection.HTTPSConnection object at 0x7f0ae505fad0>: Failed to establish a new connection: [Errno 111] Connection refused'))\n",
      "22 failures for url https://web.archive.org/web/20071201130844id_/http%3A//www.linkedin.com%3A80/in/ahmedmohammed None: HTTPSConnectionPool(host='web.archive.org', port=443): Max retries exceeded with url: /web/20071201130844id_/http%3A//www.linkedin.com%3A80/in/ahmedmohammed (Caused by NewConnectionError('<urllib3.connection.HTTPSConnection object at 0x7f0ae4ad5810>: Failed to establish a new connection: [Errno 111] Connection refused'))\n",
      "16 failures for url https://web.archive.org/web/20071118232058id_/http%3A//www.linkedin.com%3A80/in/0000000 None: HTTPSConnectionPool(host='web.archive.org', port=443): Max retries exceeded with url: /web/20071118232058id_/http%3A//www.linkedin.com%3A80/in/0000000 (Caused by NewConnectionError('<urllib3.connection.HTTPSConnection object at 0x7f0ae4d9e110>: Failed to establish a new connection: [Errno 111] Connection refused'))\n",
      "23 failures for url https://web.archive.org/web/20071201130844id_/http%3A//www.linkedin.com%3A80/in/ahmedmohammed None: HTTPSConnectionPool(host='web.archive.org', port=443): Max retries exceeded with url: /web/20071201130844id_/http%3A//www.linkedin.com%3A80/in/ahmedmohammed (Caused by NewConnectionError('<urllib3.connection.HTTPSConnection object at 0x7f09e2887a90>: Failed to establish a new connection: [Errno 111] Connection refused'))\n",
      "22 failures for url https://web.archive.org/web/20080113055041id_/http%3A//www.linkedin.com%3A80/in/charlottebabb None: HTTPSConnectionPool(host='web.archive.org', port=443): Max retries exceeded with url: /web/20080113055041id_/http%3A//www.linkedin.com%3A80/in/charlottebabb (Caused by NewConnectionError('<urllib3.connection.HTTPSConnection object at 0x7f0ae4cf0d90>: Failed to establish a new connection: [Errno 111] Connection refused'))\n",
      "17 failures for url https://web.archive.org/web/20071118232058id_/http%3A//www.linkedin.com%3A80/in/0000000 None: HTTPSConnectionPool(host='web.archive.org', port=443): Max retries exceeded with url: /web/20071118232058id_/http%3A//www.linkedin.com%3A80/in/0000000 (Caused by NewConnectionError('<urllib3.connection.HTTPSConnection object at 0x7f09e3a57810>: Failed to establish a new connection: [Errno 111] Connection refused'))\n",
      "24 failures for url https://web.archive.org/web/20071201130844id_/http%3A//www.linkedin.com%3A80/in/ahmedmohammed None: HTTPSConnectionPool(host='web.archive.org', port=443): Max retries exceeded with url: /web/20071201130844id_/http%3A//www.linkedin.com%3A80/in/ahmedmohammed (Caused by NewConnectionError('<urllib3.connection.HTTPSConnection object at 0x7f09e3af40d0>: Failed to establish a new connection: [Errno 111] Connection refused'))\n",
      "23 failures for url https://web.archive.org/web/20080113055041id_/http%3A//www.linkedin.com%3A80/in/charlottebabb None: HTTPSConnectionPool(host='web.archive.org', port=443): Max retries exceeded with url: /web/20080113055041id_/http%3A//www.linkedin.com%3A80/in/charlottebabb (Caused by NewConnectionError('<urllib3.connection.HTTPSConnection object at 0x7f09e278d790>: Failed to establish a new connection: [Errno 111] Connection refused'))\n",
      "18 failures for url https://web.archive.org/web/20071118232058id_/http%3A//www.linkedin.com%3A80/in/0000000 None: HTTPSConnectionPool(host='web.archive.org', port=443): Max retries exceeded with url: /web/20071118232058id_/http%3A//www.linkedin.com%3A80/in/0000000 (Caused by NewConnectionError('<urllib3.connection.HTTPSConnection object at 0x7f09e3a57fd0>: Failed to establish a new connection: [Errno 111] Connection refused'))\n",
      "19 failures for url https://web.archive.org/web/20071118232058id_/http%3A//www.linkedin.com%3A80/in/0000000 None: HTTPSConnectionPool(host='web.archive.org', port=443): Max retries exceeded with url: /web/20071118232058id_/http%3A//www.linkedin.com%3A80/in/0000000 (Caused by NewConnectionError('<urllib3.connection.HTTPSConnection object at 0x7f09e3a48a10>: Failed to establish a new connection: [Errno 111] Connection refused'))\n",
      "retrying after 1s for 429\n",
      "retrying after 1s for 429\n",
      "retrying after 1s for 429\n",
      "retrying after 1s for 429\n",
      "retrying after 1s for 429\n",
      "retrying after 1s for 429\n",
      "retrying after 1s for 429\n",
      "20 failures for url https://web.archive.org/web/20071118232058id_/http%3A//www.linkedin.com%3A80/in/0000000 None: HTTPSConnectionPool(host='web.archive.org', port=443): Max retries exceeded with url: /web/20071118232058id_/http%3A//www.linkedin.com%3A80/in/0000000 (Caused by NewConnectionError('<urllib3.connection.HTTPSConnection object at 0x7f0ae4ad40d0>: Failed to establish a new connection: [Errno 111] Connection refused'))\n"
     ]
    },
    {
     "name": "stderr",
     "output_type": "stream",
     "text": [
      "retrying after 1s for 429\n",
      "retrying after 1s for 429\n",
      "retrying after 1s for 429\n",
      "retrying after 1s for 429\n",
      "retrying after 1s for 429\n",
      "retrying after 1s for 429\n",
      "retrying after 1s for 429\n",
      "25 failures for url https://web.archive.org/web/20071201130844id_/http%3A//www.linkedin.com%3A80/in/ahmedmohammed None: HTTPSConnectionPool(host='web.archive.org', port=443): Max retries exceeded with url: /web/20071201130844id_/http%3A//www.linkedin.com%3A80/in/ahmedmohammed (Caused by NewConnectionError('<urllib3.connection.HTTPSConnection object at 0x7f09e2887bd0>: Failed to establish a new connection: [Errno 111] Connection refused'))\n",
      "24 failures for url https://web.archive.org/web/20080113055041id_/http%3A//www.linkedin.com%3A80/in/charlottebabb None: HTTPSConnectionPool(host='web.archive.org', port=443): Max retries exceeded with url: /web/20080113055041id_/http%3A//www.linkedin.com%3A80/in/charlottebabb (Caused by NewConnectionError('<urllib3.connection.HTTPSConnection object at 0x7f09e3a2ea10>: Failed to establish a new connection: [Errno 111] Connection refused'))\n",
      "retrying after 1s for 429\n",
      "21 failures for url https://web.archive.org/web/20071118232058id_/http%3A//www.linkedin.com%3A80/in/0000000 None: HTTPSConnectionPool(host='web.archive.org', port=443): Max retries exceeded with url: /web/20071118232058id_/http%3A//www.linkedin.com%3A80/in/0000000 (Caused by NewConnectionError('<urllib3.connection.HTTPSConnection object at 0x7f09e3955850>: Failed to establish a new connection: [Errno 111] Connection refused'))\n",
      "retrying after 1s for 429\n",
      "retrying after 1s for 429\n",
      "retrying after 1s for 429\n",
      "22 failures for url https://web.archive.org/web/20071118232058id_/http%3A//www.linkedin.com%3A80/in/0000000 None: HTTPSConnectionPool(host='web.archive.org', port=443): Max retries exceeded with url: /web/20071118232058id_/http%3A//www.linkedin.com%3A80/in/0000000 (Caused by NewConnectionError('<urllib3.connection.HTTPSConnection object at 0x7f0ae4acd410>: Failed to establish a new connection: [Errno 111] Connection refused'))\n",
      "11 failures for url https://web.archive.org/web/20080112085545id_/http%3A//www.linkedin.com%3A80/in/alumusic None: HTTPSConnectionPool(host='web.archive.org', port=443): Max retries exceeded with url: /web/20080112085545id_/http%3A//www.linkedin.com%3A80/in/alumusic (Caused by NewConnectionError('<urllib3.connection.HTTPSConnection object at 0x7f09e3a5ead0>: Failed to establish a new connection: [Errno 111] Connection refused'))\n",
      "retrying after 1s for 429\n",
      "retrying after 1s for 429\n",
      "retrying after 1s for 429\n",
      "retrying after 1s for 429\n",
      "retrying after 1s for 429\n",
      "retrying after 1s for 429\n",
      "retrying after 1s for 429\n",
      "23 failures for url https://web.archive.org/web/20071118232058id_/http%3A//www.linkedin.com%3A80/in/0000000 None: HTTPSConnectionPool(host='web.archive.org', port=443): Max retries exceeded with url: /web/20071118232058id_/http%3A//www.linkedin.com%3A80/in/0000000 (Caused by NewConnectionError('<urllib3.connection.HTTPSConnection object at 0x7f0ae4d9ecd0>: Failed to establish a new connection: [Errno 111] Connection refused'))\n",
      "12 failures for url https://web.archive.org/web/20080112085545id_/http%3A//www.linkedin.com%3A80/in/alumusic None: HTTPSConnectionPool(host='web.archive.org', port=443): Max retries exceeded with url: /web/20080112085545id_/http%3A//www.linkedin.com%3A80/in/alumusic (Caused by NewConnectionError('<urllib3.connection.HTTPSConnection object at 0x7f09e2853a50>: Failed to establish a new connection: [Errno 111] Connection refused'))\n",
      "retrying after 1s for 429\n",
      "retrying after 1s for 429\n",
      "retrying after 1s for 429\n",
      "retrying after 1s for 429\n",
      "13 failures for url https://web.archive.org/web/20080112085545id_/http%3A//www.linkedin.com%3A80/in/alumusic None: HTTPSConnectionPool(host='web.archive.org', port=443): Max retries exceeded with url: /web/20080112085545id_/http%3A//www.linkedin.com%3A80/in/alumusic (Caused by NewConnectionError('<urllib3.connection.HTTPSConnection object at 0x7f09e2853550>: Failed to establish a new connection: [Errno 111] Connection refused'))\n",
      "retrying after 1s for 429\n",
      "retrying after 1s for 429\n",
      "retrying after 1s for 429\n",
      "retrying after 1s for 429\n",
      "retrying after 1s for 429\n",
      "retrying after 1s for 429\n",
      "retrying after 1s for 429\n",
      "26 failures for url https://web.archive.org/web/20071201130844id_/http%3A//www.linkedin.com%3A80/in/ahmedmohammed None: HTTPSConnectionPool(host='web.archive.org', port=443): Max retries exceeded with url: /web/20071201130844id_/http%3A//www.linkedin.com%3A80/in/ahmedmohammed (Caused by NewConnectionError('<urllib3.connection.HTTPSConnection object at 0x7f09e2898210>: Failed to establish a new connection: [Errno 111] Connection refused'))\n",
      "11 failures for url https://web.archive.org/web/20071103170242id_/http%3A//www.linkedin.com%3A80/in/ashdeguzman None: HTTPSConnectionPool(host='web.archive.org', port=443): Max retries exceeded with url: /web/20071103170242id_/http%3A//www.linkedin.com%3A80/in/ashdeguzman (Caused by NewConnectionError('<urllib3.connection.HTTPSConnection object at 0x7f09e2855e90>: Failed to establish a new connection: [Errno 111] Connection refused'))\n",
      "25 failures for url https://web.archive.org/web/20080113055041id_/http%3A//www.linkedin.com%3A80/in/charlottebabb None: HTTPSConnectionPool(host='web.archive.org', port=443): Max retries exceeded with url: /web/20080113055041id_/http%3A//www.linkedin.com%3A80/in/charlottebabb (Caused by NewConnectionError('<urllib3.connection.HTTPSConnection object at 0x7f09e2779610>: Failed to establish a new connection: [Errno 111] Connection refused'))\n",
      "24 failures for url https://web.archive.org/web/20071118232058id_/http%3A//www.linkedin.com%3A80/in/0000000 None: HTTPSConnectionPool(host='web.archive.org', port=443): Max retries exceeded with url: /web/20071118232058id_/http%3A//www.linkedin.com%3A80/in/0000000 (Caused by NewConnectionError('<urllib3.connection.HTTPSConnection object at 0x7f09e2779550>: Failed to establish a new connection: [Errno 111] Connection refused'))\n",
      "retrying after 1s for 429\n",
      "26 failures for url https://web.archive.org/web/20080113055041id_/http%3A//www.linkedin.com%3A80/in/charlottebabb None: HTTPSConnectionPool(host='web.archive.org', port=443): Max retries exceeded with url: /web/20080113055041id_/http%3A//www.linkedin.com%3A80/in/charlottebabb (Caused by NewConnectionError('<urllib3.connection.HTTPSConnection object at 0x7f09e3a2ebd0>: Failed to establish a new connection: [Errno 111] Connection refused'))\n",
      "25 failures for url https://web.archive.org/web/20071118232058id_/http%3A//www.linkedin.com%3A80/in/0000000 None: HTTPSConnectionPool(host='web.archive.org', port=443): Max retries exceeded with url: /web/20071118232058id_/http%3A//www.linkedin.com%3A80/in/0000000 (Caused by NewConnectionError('<urllib3.connection.HTTPSConnection object at 0x7f09e3a48d10>: Failed to establish a new connection: [Errno 111] Connection refused'))\n",
      "retrying after 1s for 429\n",
      "retrying after 1s for 429\n",
      "retrying after 1s for 429\n",
      "retrying after 1s for 429\n",
      "retrying after 1s for 429\n",
      "retrying after 1s for 429\n",
      "14 failures for url https://web.archive.org/web/20080112085545id_/http%3A//www.linkedin.com%3A80/in/alumusic None: HTTPSConnectionPool(host='web.archive.org', port=443): Max retries exceeded with url: /web/20080112085545id_/http%3A//www.linkedin.com%3A80/in/alumusic (Caused by NewConnectionError('<urllib3.connection.HTTPSConnection object at 0x7f09e392e250>: Failed to establish a new connection: [Errno 111] Connection refused'))\n",
      "retrying after 1s for 429\n",
      "11 failures for url https://web.archive.org/web/20070606110103id_/http%3A//www.linkedin.com%3A80/in/claux None: HTTPSConnectionPool(host='web.archive.org', port=443): Max retries exceeded with url: /web/20070606110103id_/http%3A//www.linkedin.com%3A80/in/claux (Caused by NewConnectionError('<urllib3.connection.HTTPSConnection object at 0x7f09e3a4d0d0>: Failed to establish a new connection: [Errno 111] Connection refused'))\n",
      "12 failures for url https://web.archive.org/web/20071103170242id_/http%3A//www.linkedin.com%3A80/in/ashdeguzman None: HTTPSConnectionPool(host='web.archive.org', port=443): Max retries exceeded with url: /web/20071103170242id_/http%3A//www.linkedin.com%3A80/in/ashdeguzman (Caused by NewConnectionError('<urllib3.connection.HTTPSConnection object at 0x7f09e27797d0>: Failed to establish a new connection: [Errno 111] Connection refused'))\n"
     ]
    },
    {
     "name": "stderr",
     "output_type": "stream",
     "text": [
      "retrying after 1s for 429\n",
      "retrying after 1s for 429\n",
      "retrying after 1s for 429\n",
      "retrying after 1s for 429\n",
      "retrying after 1s for 429\n",
      "retrying after 1s for 429\n",
      "retrying after 1s for 429\n",
      "retrying after 1s for 429\n",
      "27 failures for url https://web.archive.org/web/20080113055041id_/http%3A//www.linkedin.com%3A80/in/charlottebabb None: HTTPSConnectionPool(host='web.archive.org', port=443): Max retries exceeded with url: /web/20080113055041id_/http%3A//www.linkedin.com%3A80/in/charlottebabb (Caused by NewConnectionError('<urllib3.connection.HTTPSConnection object at 0x7f0ae505fb90>: Failed to establish a new connection: [Errno 111] Connection refused'))\n",
      "26 failures for url https://web.archive.org/web/20071118232058id_/http%3A//www.linkedin.com%3A80/in/0000000 None: HTTPSConnectionPool(host='web.archive.org', port=443): Max retries exceeded with url: /web/20071118232058id_/http%3A//www.linkedin.com%3A80/in/0000000 (Caused by NewConnectionError('<urllib3.connection.HTTPSConnection object at 0x7f0ae4ad4ad0>: Failed to establish a new connection: [Errno 111] Connection refused'))\n",
      "27 failures for url https://web.archive.org/web/20071201130844id_/http%3A//www.linkedin.com%3A80/in/ahmedmohammed None: HTTPSConnectionPool(host='web.archive.org', port=443): Max retries exceeded with url: /web/20071201130844id_/http%3A//www.linkedin.com%3A80/in/ahmedmohammed (Caused by NewConnectionError('<urllib3.connection.HTTPSConnection object at 0x7f09e282bf90>: Failed to establish a new connection: [Errno 111] Connection refused'))\n",
      "retrying after 1s for 429\n",
      "retrying after 1s for 429\n",
      "retrying after 1s for 429\n",
      "retrying after 1s for 429\n",
      "retrying after 1s for 429\n",
      "retrying after 1s for 429\n",
      "retrying after 1s for 429\n",
      "13 failures for url https://web.archive.org/web/20071103170242id_/http%3A//www.linkedin.com%3A80/in/ashdeguzman None: HTTPSConnectionPool(host='web.archive.org', port=443): Max retries exceeded with url: /web/20071103170242id_/http%3A//www.linkedin.com%3A80/in/ashdeguzman (Caused by NewConnectionError('<urllib3.connection.HTTPSConnection object at 0x7f09e3b0a490>: Failed to establish a new connection: [Errno 111] Connection refused'))\n",
      "retrying after 1s for 429\n",
      "retrying after 1s for 429\n",
      "retrying after 1s for 429\n",
      "15 failures for url https://web.archive.org/web/20080112085545id_/http%3A//www.linkedin.com%3A80/in/alumusic None: HTTPSConnectionPool(host='web.archive.org', port=443): Max retries exceeded with url: /web/20080112085545id_/http%3A//www.linkedin.com%3A80/in/alumusic (Caused by NewConnectionError('<urllib3.connection.HTTPSConnection object at 0x7f09e392e910>: Failed to establish a new connection: [Errno 111] Connection refused'))\n",
      "retrying after 1s for 429\n",
      "retrying after 1s for 429\n",
      "14 failures for url https://web.archive.org/web/20071103170242id_/http%3A//www.linkedin.com%3A80/in/ashdeguzman None: HTTPSConnectionPool(host='web.archive.org', port=443): Max retries exceeded with url: /web/20071103170242id_/http%3A//www.linkedin.com%3A80/in/ashdeguzman (Caused by NewConnectionError('<urllib3.connection.HTTPSConnection object at 0x7f0ae4a8d910>: Failed to establish a new connection: [Errno 111] Connection refused'))\n",
      "27 failures for url https://web.archive.org/web/20071118232058id_/http%3A//www.linkedin.com%3A80/in/0000000 None: HTTPSConnectionPool(host='web.archive.org', port=443): Max retries exceeded with url: /web/20071118232058id_/http%3A//www.linkedin.com%3A80/in/0000000 (Caused by NewConnectionError('<urllib3.connection.HTTPSConnection object at 0x7f09e3a41b50>: Failed to establish a new connection: [Errno 111] Connection refused'))\n",
      "28 failures for url https://web.archive.org/web/20080113055041id_/http%3A//www.linkedin.com%3A80/in/charlottebabb None: HTTPSConnectionPool(host='web.archive.org', port=443): Max retries exceeded with url: /web/20080113055041id_/http%3A//www.linkedin.com%3A80/in/charlottebabb (Caused by NewConnectionError('<urllib3.connection.HTTPSConnection object at 0x7f0ae4acf5d0>: Failed to establish a new connection: [Errno 111] Connection refused'))\n",
      "retrying after 1s for 429\n",
      "retrying after 1s for 429\n",
      "retrying after 1s for 429\n",
      "retrying after 1s for 429\n",
      "retrying after 1s for 429\n",
      "28 failures for url https://web.archive.org/web/20071118232058id_/http%3A//www.linkedin.com%3A80/in/0000000 None: HTTPSConnectionPool(host='web.archive.org', port=443): Max retries exceeded with url: /web/20071118232058id_/http%3A//www.linkedin.com%3A80/in/0000000 (Caused by NewConnectionError('<urllib3.connection.HTTPSConnection object at 0x7f0ae4d9edd0>: Failed to establish a new connection: [Errno 111] Connection refused'))\n",
      "29 failures for url https://web.archive.org/web/20080113055041id_/http%3A//www.linkedin.com%3A80/in/charlottebabb None: HTTPSConnectionPool(host='web.archive.org', port=443): Max retries exceeded with url: /web/20080113055041id_/http%3A//www.linkedin.com%3A80/in/charlottebabb (Caused by NewConnectionError('<urllib3.connection.HTTPSConnection object at 0x7f0ae4ade150>: Failed to establish a new connection: [Errno 111] Connection refused'))\n",
      "retrying after 1s for 429\n",
      "retrying after 1s for 429\n",
      "11 failures for url https://web.archive.org/web/20071105032746id_/http%3A//www.linkedin.com%3A80/in/dalsgaard None: HTTPSConnectionPool(host='web.archive.org', port=443): Max retries exceeded with url: /web/20071105032746id_/http%3A//www.linkedin.com%3A80/in/dalsgaard (Caused by NewConnectionError('<urllib3.connection.HTTPSConnection object at 0x7f09e3a2ef50>: Failed to establish a new connection: [Errno 111] Connection refused'))\n",
      "retrying after 1s for 429\n",
      "retrying after 1s for 429\n",
      "retrying after 1s for 429\n",
      "retrying after 1s for 429\n",
      "retrying after 1s for 429\n",
      "retrying after 1s for 429\n",
      "retrying after 1s for 429\n",
      "retrying after 1s for 429\n",
      "retrying after 1s for 429\n",
      "retrying after 1s for 429\n",
      "retrying after 1s for 429\n",
      "retrying after 1s for 429\n",
      "retrying after 1s for 429\n",
      "retrying after 1s for 429\n",
      "11 failures for url https://web.archive.org/web/20070701134914id_/http%3A//www.linkedin.com%3A80/in/davidehrlich None: HTTPSConnectionPool(host='web.archive.org', port=443): Max retries exceeded with url: /web/20070701134914id_/http%3A//www.linkedin.com%3A80/in/davidehrlich (Caused by NewConnectionError('<urllib3.connection.HTTPSConnection object at 0x7f09e289d3d0>: Failed to establish a new connection: [Errno 111] Connection refused'))\n",
      "12 failures for url https://web.archive.org/web/20070701134914id_/http%3A//www.linkedin.com%3A80/in/davidehrlich None: HTTPSConnectionPool(host='web.archive.org', port=443): Max retries exceeded with url: /web/20070701134914id_/http%3A//www.linkedin.com%3A80/in/davidehrlich (Caused by NewConnectionError('<urllib3.connection.HTTPSConnection object at 0x7f09e2887e10>: Failed to establish a new connection: [Errno 111] Connection refused'))\n",
      "16 failures for url https://web.archive.org/web/20080112085545id_/http%3A//www.linkedin.com%3A80/in/alumusic None: HTTPSConnectionPool(host='web.archive.org', port=443): Read timed out. (read timeout=30.0)\n",
      "29 failures for url https://web.archive.org/web/20071118232058id_/http%3A//www.linkedin.com%3A80/in/0000000 None: HTTPSConnectionPool(host='web.archive.org', port=443): Max retries exceeded with url: /web/20071118232058id_/http%3A//www.linkedin.com%3A80/in/0000000 (Caused by ConnectTimeoutError(<urllib3.connection.HTTPSConnection object at 0x7f0ae4d9e090>, 'Connection to web.archive.org timed out. (connect timeout=30.0)'))\n",
      "30 failures for url https://web.archive.org/web/20080113055041id_/http%3A//www.linkedin.com%3A80/in/charlottebabb None: HTTPSConnectionPool(host='web.archive.org', port=443): Max retries exceeded with url: /web/20080113055041id_/http%3A//www.linkedin.com%3A80/in/charlottebabb (Caused by ConnectTimeoutError(<urllib3.connection.HTTPSConnection object at 0x7f09e285c9d0>, 'Connection to web.archive.org timed out. (connect timeout=30.0)'))\n",
      "28 failures for url https://web.archive.org/web/20071201130844id_/http%3A//www.linkedin.com%3A80/in/ahmedmohammed None: HTTPSConnectionPool(host='web.archive.org', port=443): Max retries exceeded with url: /web/20071201130844id_/http%3A//www.linkedin.com%3A80/in/ahmedmohammed (Caused by ConnectTimeoutError(<urllib3.connection.HTTPSConnection object at 0x7f0ae4ad5850>, 'Connection to web.archive.org timed out. (connect timeout=30.0)'))\n"
     ]
    },
    {
     "name": "stderr",
     "output_type": "stream",
     "text": [
      "12 failures for url https://web.archive.org/web/20070606110103id_/http%3A//www.linkedin.com%3A80/in/claux None: HTTPSConnectionPool(host='web.archive.org', port=443): Max retries exceeded with url: /web/20070606110103id_/http%3A//www.linkedin.com%3A80/in/claux (Caused by ConnectTimeoutError(<urllib3.connection.HTTPSConnection object at 0x7f09e284e290>, 'Connection to web.archive.org timed out. (connect timeout=30.0)'))\n",
      "15 failures for url https://web.archive.org/web/20071103170242id_/http%3A//www.linkedin.com%3A80/in/ashdeguzman None: HTTPSConnectionPool(host='web.archive.org', port=443): Max retries exceeded with url: /web/20071103170242id_/http%3A//www.linkedin.com%3A80/in/ashdeguzman (Caused by ConnectTimeoutError(<urllib3.connection.HTTPSConnection object at 0x7f09e2855450>, 'Connection to web.archive.org timed out. (connect timeout=30.0)'))\n",
      "12 failures for url https://web.archive.org/web/20071105032746id_/http%3A//www.linkedin.com%3A80/in/dalsgaard None: HTTPSConnectionPool(host='web.archive.org', port=443): Max retries exceeded with url: /web/20071105032746id_/http%3A//www.linkedin.com%3A80/in/dalsgaard (Caused by ConnectTimeoutError(<urllib3.connection.HTTPSConnection object at 0x7f09e3a2e810>, 'Connection to web.archive.org timed out. (connect timeout=30.0)'))\n",
      "11 failures for url https://web.archive.org/web/20071117100802id_/http%3A//www.linkedin.com%3A80/in/buzzrhcx None: HTTPSConnectionPool(host='web.archive.org', port=443): Max retries exceeded with url: /web/20071117100802id_/http%3A//www.linkedin.com%3A80/in/buzzrhcx (Caused by NewConnectionError('<urllib3.connection.HTTPSConnection object at 0x7f09e283cd90>: Failed to establish a new connection: [Errno 111] Connection refused'))\n",
      "12 failures for url https://web.archive.org/web/20071117100802id_/http%3A//www.linkedin.com%3A80/in/buzzrhcx None: HTTPSConnectionPool(host='web.archive.org', port=443): Max retries exceeded with url: /web/20071117100802id_/http%3A//www.linkedin.com%3A80/in/buzzrhcx (Caused by NewConnectionError('<urllib3.connection.HTTPSConnection object at 0x7f09e3afd190>: Failed to establish a new connection: [Errno 111] Connection refused'))\n",
      "17 failures for url https://web.archive.org/web/20080112085545id_/http%3A//www.linkedin.com%3A80/in/alumusic None: HTTPSConnectionPool(host='web.archive.org', port=443): Max retries exceeded with url: /web/20080112085545id_/http%3A//www.linkedin.com%3A80/in/alumusic (Caused by NewConnectionError('<urllib3.connection.HTTPSConnection object at 0x7f09e3a30510>: Failed to establish a new connection: [Errno 111] Connection refused'))\n",
      "13 failures for url https://web.archive.org/web/20071117100802id_/http%3A//www.linkedin.com%3A80/in/buzzrhcx None: HTTPSConnectionPool(host='web.archive.org', port=443): Max retries exceeded with url: /web/20071117100802id_/http%3A//www.linkedin.com%3A80/in/buzzrhcx (Caused by NewConnectionError('<urllib3.connection.HTTPSConnection object at 0x7f09e285c950>: Failed to establish a new connection: [Errno 111] Connection refused'))\n",
      "14 failures for url https://web.archive.org/web/20071117100802id_/http%3A//www.linkedin.com%3A80/in/buzzrhcx None: HTTPSConnectionPool(host='web.archive.org', port=443): Max retries exceeded with url: /web/20071117100802id_/http%3A//www.linkedin.com%3A80/in/buzzrhcx (Caused by NewConnectionError('<urllib3.connection.HTTPSConnection object at 0x7f09e2899cd0>: Failed to establish a new connection: [Errno 111] Connection refused'))\n",
      "18 failures for url https://web.archive.org/web/20080112085545id_/http%3A//www.linkedin.com%3A80/in/alumusic None: HTTPSConnectionPool(host='web.archive.org', port=443): Max retries exceeded with url: /web/20080112085545id_/http%3A//www.linkedin.com%3A80/in/alumusic (Caused by NewConnectionError('<urllib3.connection.HTTPSConnection object at 0x7f0ae4d8ee90>: Failed to establish a new connection: [Errno 111] Connection refused'))\n",
      "19 failures for url https://web.archive.org/web/20080112085545id_/http%3A//www.linkedin.com%3A80/in/alumusic None: HTTPSConnectionPool(host='web.archive.org', port=443): Max retries exceeded with url: /web/20080112085545id_/http%3A//www.linkedin.com%3A80/in/alumusic (Caused by NewConnectionError('<urllib3.connection.HTTPSConnection object at 0x7f09e393ea90>: Failed to establish a new connection: [Errno 111] Connection refused'))\n",
      "20 failures for url https://web.archive.org/web/20080112085545id_/http%3A//www.linkedin.com%3A80/in/alumusic None: HTTPSConnectionPool(host='web.archive.org', port=443): Max retries exceeded with url: /web/20080112085545id_/http%3A//www.linkedin.com%3A80/in/alumusic (Caused by NewConnectionError('<urllib3.connection.HTTPSConnection object at 0x7f0ae4db4690>: Failed to establish a new connection: [Errno 111] Connection refused'))\n",
      "13 failures for url https://web.archive.org/web/20070701134914id_/http%3A//www.linkedin.com%3A80/in/davidehrlich None: HTTPSConnectionPool(host='web.archive.org', port=443): Max retries exceeded with url: /web/20070701134914id_/http%3A//www.linkedin.com%3A80/in/davidehrlich (Caused by ConnectTimeoutError(<urllib3.connection.HTTPSConnection object at 0x7f0ae4ddc150>, 'Connection to web.archive.org timed out. (connect timeout=30.0)'))\n",
      "30 failures for url https://web.archive.org/web/20071118232058id_/http%3A//www.linkedin.com%3A80/in/0000000 None: HTTPSConnectionPool(host='web.archive.org', port=443): Max retries exceeded with url: /web/20071118232058id_/http%3A//www.linkedin.com%3A80/in/0000000 (Caused by ConnectTimeoutError(<urllib3.connection.HTTPSConnection object at 0x7f0ae4d94d90>, 'Connection to web.archive.org timed out. (connect timeout=30.0)'))\n",
      "31 failures for url https://web.archive.org/web/20080113055041id_/http%3A//www.linkedin.com%3A80/in/charlottebabb None: HTTPSConnectionPool(host='web.archive.org', port=443): Max retries exceeded with url: /web/20080113055041id_/http%3A//www.linkedin.com%3A80/in/charlottebabb (Caused by ConnectTimeoutError(<urllib3.connection.HTTPSConnection object at 0x7f0aed1b2d10>, 'Connection to web.archive.org timed out. (connect timeout=30.0)'))\n",
      "21 failures for url https://web.archive.org/web/20080112085545id_/http%3A//www.linkedin.com%3A80/in/alumusic None: HTTPSConnectionPool(host='web.archive.org', port=443): Max retries exceeded with url: /web/20080112085545id_/http%3A//www.linkedin.com%3A80/in/alumusic (Caused by NewConnectionError('<urllib3.connection.HTTPSConnection object at 0x7f09e3a30850>: Failed to establish a new connection: [Errno 111] Connection refused'))\n",
      "29 failures for url https://web.archive.org/web/20071201130844id_/http%3A//www.linkedin.com%3A80/in/ahmedmohammed None: HTTPSConnectionPool(host='web.archive.org', port=443): Max retries exceeded with url: /web/20071201130844id_/http%3A//www.linkedin.com%3A80/in/ahmedmohammed (Caused by ConnectTimeoutError(<urllib3.connection.HTTPSConnection object at 0x7f09e2805f90>, 'Connection to web.archive.org timed out. (connect timeout=30.0)'))\n",
      "13 failures for url https://web.archive.org/web/20070606110103id_/http%3A//www.linkedin.com%3A80/in/claux None: HTTPSConnectionPool(host='web.archive.org', port=443): Max retries exceeded with url: /web/20070606110103id_/http%3A//www.linkedin.com%3A80/in/claux (Caused by ConnectTimeoutError(<urllib3.connection.HTTPSConnection object at 0x7f09e284e810>, 'Connection to web.archive.org timed out. (connect timeout=30.0)'))\n",
      "16 failures for url https://web.archive.org/web/20071103170242id_/http%3A//www.linkedin.com%3A80/in/ashdeguzman None: HTTPSConnectionPool(host='web.archive.org', port=443): Max retries exceeded with url: /web/20071103170242id_/http%3A//www.linkedin.com%3A80/in/ashdeguzman (Caused by ConnectTimeoutError(<urllib3.connection.HTTPSConnection object at 0x7f09e2791e50>, 'Connection to web.archive.org timed out. (connect timeout=30.0)'))\n",
      "13 failures for url https://web.archive.org/web/20071105032746id_/http%3A//www.linkedin.com%3A80/in/dalsgaard None: HTTPSConnectionPool(host='web.archive.org', port=443): Max retries exceeded with url: /web/20071105032746id_/http%3A//www.linkedin.com%3A80/in/dalsgaard (Caused by ConnectTimeoutError(<urllib3.connection.HTTPSConnection object at 0x7f09e3925dd0>, 'Connection to web.archive.org timed out. (connect timeout=30.0)'))\n"
     ]
    },
    {
     "name": "stderr",
     "output_type": "stream",
     "text": [
      "11 failures for url https://web.archive.org/web/20070923051044id_/http%3A//www.linkedin.com%3A80/in/bencottrill None: HTTPSConnectionPool(host='web.archive.org', port=443): Max retries exceeded with url: /web/20070923051044id_/http%3A//www.linkedin.com%3A80/in/bencottrill (Caused by NewConnectionError('<urllib3.connection.HTTPSConnection object at 0x7f09e3934890>: Failed to establish a new connection: [Errno 111] Connection refused'))\n",
      "12 failures for url https://web.archive.org/web/20070923051044id_/http%3A//www.linkedin.com%3A80/in/bencottrill None: HTTPSConnectionPool(host='web.archive.org', port=443): Max retries exceeded with url: /web/20070923051044id_/http%3A//www.linkedin.com%3A80/in/bencottrill (Caused by NewConnectionError('<urllib3.connection.HTTPSConnection object at 0x7f09e3a5c550>: Failed to establish a new connection: [Errno 111] Connection refused'))\n",
      "13 failures for url https://web.archive.org/web/20070923051044id_/http%3A//www.linkedin.com%3A80/in/bencottrill None: HTTPSConnectionPool(host='web.archive.org', port=443): Max retries exceeded with url: /web/20070923051044id_/http%3A//www.linkedin.com%3A80/in/bencottrill (Caused by NewConnectionError('<urllib3.connection.HTTPSConnection object at 0x7f09e3a48d50>: Failed to establish a new connection: [Errno 111] Connection refused'))\n",
      "15 failures for url https://web.archive.org/web/20071117100802id_/http%3A//www.linkedin.com%3A80/in/buzzrhcx None: HTTPSConnectionPool(host='web.archive.org', port=443): Max retries exceeded with url: /web/20071117100802id_/http%3A//www.linkedin.com%3A80/in/buzzrhcx (Caused by ConnectTimeoutError(<urllib3.connection.HTTPSConnection object at 0x7f09e280a0d0>, 'Connection to web.archive.org timed out. (connect timeout=30.0)'))\n",
      "14 failures for url https://web.archive.org/web/20070923051044id_/http%3A//www.linkedin.com%3A80/in/bencottrill None: HTTPSConnectionPool(host='web.archive.org', port=443): Max retries exceeded with url: /web/20070923051044id_/http%3A//www.linkedin.com%3A80/in/bencottrill (Caused by NewConnectionError('<urllib3.connection.HTTPSConnection object at 0x7f09e3951310>: Failed to establish a new connection: [Errno 111] Connection refused'))\n",
      "15 failures for url https://web.archive.org/web/20070923051044id_/http%3A//www.linkedin.com%3A80/in/bencottrill None: HTTPSConnectionPool(host='web.archive.org', port=443): Max retries exceeded with url: /web/20070923051044id_/http%3A//www.linkedin.com%3A80/in/bencottrill (Caused by NewConnectionError('<urllib3.connection.HTTPSConnection object at 0x7f0ae4dc5890>: Failed to establish a new connection: [Errno 111] Connection refused'))\n",
      "14 failures for url https://web.archive.org/web/20070701134914id_/http%3A//www.linkedin.com%3A80/in/davidehrlich None: HTTPSConnectionPool(host='web.archive.org', port=443): Max retries exceeded with url: /web/20070701134914id_/http%3A//www.linkedin.com%3A80/in/davidehrlich (Caused by ConnectTimeoutError(<urllib3.connection.HTTPSConnection object at 0x7f09e3951b90>, 'Connection to web.archive.org timed out. (connect timeout=30.0)'))\n",
      "31 failures for url https://web.archive.org/web/20071118232058id_/http%3A//www.linkedin.com%3A80/in/0000000 None: HTTPSConnectionPool(host='web.archive.org', port=443): Max retries exceeded with url: /web/20071118232058id_/http%3A//www.linkedin.com%3A80/in/0000000 (Caused by ConnectTimeoutError(<urllib3.connection.HTTPSConnection object at 0x7f0ae4ae5d90>, 'Connection to web.archive.org timed out. (connect timeout=30.0)'))\n",
      "32 failures for url https://web.archive.org/web/20080113055041id_/http%3A//www.linkedin.com%3A80/in/charlottebabb None: HTTPSConnectionPool(host='web.archive.org', port=443): Max retries exceeded with url: /web/20080113055041id_/http%3A//www.linkedin.com%3A80/in/charlottebabb (Caused by ConnectTimeoutError(<urllib3.connection.HTTPSConnection object at 0x7f0ae4cf0c50>, 'Connection to web.archive.org timed out. (connect timeout=30.0)'))\n",
      "22 failures for url https://web.archive.org/web/20080112085545id_/http%3A//www.linkedin.com%3A80/in/alumusic None: HTTPSConnectionPool(host='web.archive.org', port=443): Max retries exceeded with url: /web/20080112085545id_/http%3A//www.linkedin.com%3A80/in/alumusic (Caused by ConnectTimeoutError(<urllib3.connection.HTTPSConnection object at 0x7f09e3a22910>, 'Connection to web.archive.org timed out. (connect timeout=30.0)'))\n",
      "30 failures for url https://web.archive.org/web/20071201130844id_/http%3A//www.linkedin.com%3A80/in/ahmedmohammed None: HTTPSConnectionPool(host='web.archive.org', port=443): Max retries exceeded with url: /web/20071201130844id_/http%3A//www.linkedin.com%3A80/in/ahmedmohammed (Caused by ConnectTimeoutError(<urllib3.connection.HTTPSConnection object at 0x7f09e3a577d0>, 'Connection to web.archive.org timed out. (connect timeout=30.0)'))\n",
      "14 failures for url https://web.archive.org/web/20070606110103id_/http%3A//www.linkedin.com%3A80/in/claux None: HTTPSConnectionPool(host='web.archive.org', port=443): Max retries exceeded with url: /web/20070606110103id_/http%3A//www.linkedin.com%3A80/in/claux (Caused by ConnectTimeoutError(<urllib3.connection.HTTPSConnection object at 0x7f09e39458d0>, 'Connection to web.archive.org timed out. (connect timeout=30.0)'))\n",
      "14 failures for url https://web.archive.org/web/20071105032746id_/http%3A//www.linkedin.com%3A80/in/dalsgaard None: HTTPSConnectionPool(host='web.archive.org', port=443): Max retries exceeded with url: /web/20071105032746id_/http%3A//www.linkedin.com%3A80/in/dalsgaard (Caused by ConnectTimeoutError(<urllib3.connection.HTTPSConnection object at 0x7f0ae4d9b450>, 'Connection to web.archive.org timed out. (connect timeout=30.0)'))\n",
      "17 failures for url https://web.archive.org/web/20071103170242id_/http%3A//www.linkedin.com%3A80/in/ashdeguzman None: HTTPSConnectionPool(host='web.archive.org', port=443): Max retries exceeded with url: /web/20071103170242id_/http%3A//www.linkedin.com%3A80/in/ashdeguzman (Caused by ConnectTimeoutError(<urllib3.connection.HTTPSConnection object at 0x7f09e282ab10>, 'Connection to web.archive.org timed out. (connect timeout=30.0)'))\n",
      "16 failures for url https://web.archive.org/web/20071117100802id_/http%3A//www.linkedin.com%3A80/in/buzzrhcx None: HTTPSConnectionPool(host='web.archive.org', port=443): Max retries exceeded with url: /web/20071117100802id_/http%3A//www.linkedin.com%3A80/in/buzzrhcx (Caused by ConnectTimeoutError(<urllib3.connection.HTTPSConnection object at 0x7f09e2884850>, 'Connection to web.archive.org timed out. (connect timeout=30.0)'))\n",
      "17 failures for url https://web.archive.org/web/20071117100802id_/http%3A//www.linkedin.com%3A80/in/buzzrhcx None: HTTPSConnectionPool(host='web.archive.org', port=443): Max retries exceeded with url: /web/20071117100802id_/http%3A//www.linkedin.com%3A80/in/buzzrhcx (Caused by NewConnectionError('<urllib3.connection.HTTPSConnection object at 0x7f09e2880c90>: Failed to establish a new connection: [Errno 111] Connection refused'))\n",
      "16 failures for url https://web.archive.org/web/20070923051044id_/http%3A//www.linkedin.com%3A80/in/bencottrill None: HTTPSConnectionPool(host='web.archive.org', port=443): Max retries exceeded with url: /web/20070923051044id_/http%3A//www.linkedin.com%3A80/in/bencottrill (Caused by ConnectTimeoutError(<urllib3.connection.HTTPSConnection object at 0x7f0ae4d6a490>, 'Connection to web.archive.org timed out. (connect timeout=30.0)'))\n",
      "32 failures for url https://web.archive.org/web/20071118232058id_/http%3A//www.linkedin.com%3A80/in/0000000 None: HTTPSConnectionPool(host='web.archive.org', port=443): Max retries exceeded with url: /web/20071118232058id_/http%3A//www.linkedin.com%3A80/in/0000000 (Caused by ConnectTimeoutError(<urllib3.connection.HTTPSConnection object at 0x7f09e3a41190>, 'Connection to web.archive.org timed out. (connect timeout=30.0)'))\n",
      "33 failures for url https://web.archive.org/web/20080113055041id_/http%3A//www.linkedin.com%3A80/in/charlottebabb None: HTTPSConnectionPool(host='web.archive.org', port=443): Max retries exceeded with url: /web/20080113055041id_/http%3A//www.linkedin.com%3A80/in/charlottebabb (Caused by ConnectTimeoutError(<urllib3.connection.HTTPSConnection object at 0x7f0ae4cd89d0>, 'Connection to web.archive.org timed out. (connect timeout=30.0)'))\n"
     ]
    },
    {
     "name": "stderr",
     "output_type": "stream",
     "text": [
      "23 failures for url https://web.archive.org/web/20080112085545id_/http%3A//www.linkedin.com%3A80/in/alumusic None: HTTPSConnectionPool(host='web.archive.org', port=443): Max retries exceeded with url: /web/20080112085545id_/http%3A//www.linkedin.com%3A80/in/alumusic (Caused by ConnectTimeoutError(<urllib3.connection.HTTPSConnection object at 0x7f09e2831110>, 'Connection to web.archive.org timed out. (connect timeout=30.0)'))\n",
      "31 failures for url https://web.archive.org/web/20071201130844id_/http%3A//www.linkedin.com%3A80/in/ahmedmohammed None: HTTPSConnectionPool(host='web.archive.org', port=443): Max retries exceeded with url: /web/20071201130844id_/http%3A//www.linkedin.com%3A80/in/ahmedmohammed (Caused by ConnectTimeoutError(<urllib3.connection.HTTPSConnection object at 0x7f09e3a57450>, 'Connection to web.archive.org timed out. (connect timeout=30.0)'))\n",
      "15 failures for url https://web.archive.org/web/20070606110103id_/http%3A//www.linkedin.com%3A80/in/claux None: HTTPSConnectionPool(host='web.archive.org', port=443): Max retries exceeded with url: /web/20070606110103id_/http%3A//www.linkedin.com%3A80/in/claux (Caused by ConnectTimeoutError(<urllib3.connection.HTTPSConnection object at 0x7f09e3a35350>, 'Connection to web.archive.org timed out. (connect timeout=30.0)'))\n",
      "15 failures for url https://web.archive.org/web/20071105032746id_/http%3A//www.linkedin.com%3A80/in/dalsgaard None: HTTPSConnectionPool(host='web.archive.org', port=443): Max retries exceeded with url: /web/20071105032746id_/http%3A//www.linkedin.com%3A80/in/dalsgaard (Caused by ConnectTimeoutError(<urllib3.connection.HTTPSConnection object at 0x7f0ae4d9bc50>, 'Connection to web.archive.org timed out. (connect timeout=30.0)'))\n",
      "18 failures for url https://web.archive.org/web/20071103170242id_/http%3A//www.linkedin.com%3A80/in/ashdeguzman None: HTTPSConnectionPool(host='web.archive.org', port=443): Max retries exceeded with url: /web/20071103170242id_/http%3A//www.linkedin.com%3A80/in/ashdeguzman (Caused by ConnectTimeoutError(<urllib3.connection.HTTPSConnection object at 0x7f09e2850210>, 'Connection to web.archive.org timed out. (connect timeout=30.0)'))\n",
      "33 failures for url https://web.archive.org/web/20071118232058id_/http%3A//www.linkedin.com%3A80/in/0000000 None: HTTPSConnectionPool(host='web.archive.org', port=443): Max retries exceeded with url: /web/20071118232058id_/http%3A//www.linkedin.com%3A80/in/0000000 (Caused by NewConnectionError('<urllib3.connection.HTTPSConnection object at 0x7f09e28552d0>: Failed to establish a new connection: [Errno 111] Connection refused'))\n",
      "15 failures for url https://web.archive.org/web/20070701134914id_/http%3A//www.linkedin.com%3A80/in/davidehrlich None: HTTPSConnectionPool(host='web.archive.org', port=443): Read timed out. (read timeout=30.0)\n"
     ]
    }
   ],
   "source": [
    "for year in np.arange(2007, 2017, 1):\n",
    "    %%time\n",
    "    try:\n",
    "        os.mkdir(\"ia/\"+str(year))\n",
    "    except:\n",
    "        pass\n",
    "    \n",
    "    lim = 1000000\n",
    "    if year != 2007:\n",
    "        objs = list(cdx.iter(url, from_ts=f'{year}01', to=f'{year+1}01', limit = lim, filter='status:200'))\n",
    "    print(f\"Obtained {year}\")\n",
    "    storlist = []\n",
    "    j = 0\n",
    "    \n",
    "    def outputPersonIA(objs):\n",
    "        global j\n",
    "        global storlist\n",
    "        if objs['urlkey'] not in storlist:\n",
    "            # Creating an HTML file\n",
    "            Func = open(f\"ia/{year}/Person{j+1}.html\",\"w\")\n",
    "            # Adding input data to the HTML file\n",
    "            try:\n",
    "                Func.write(objs.content.decode(\"utf-8\"))\n",
    "                j+=1\n",
    "            except:\n",
    "                pass\n",
    "                #print(f\"Failed saving {objs[i]['urlkey']}\")\n",
    "            Func.close()\n",
    "            storlist.append(objs['urlkey'])\n",
    "\n",
    "    pool = multiprocessing.Pool(12)\n",
    "    pool.map(outputPersonIA, objs)\n",
    "    \n",
    "    print(storlist)\n",
    "    \n",
    "    directory = f\"ia/{year}\"\n",
    "    print(f\"Finished {year}, Total saved: {len(os.listdir(directory))}\")"
   ]
  },
  {
   "cell_type": "code",
   "execution_count": null,
   "id": "7d10229e",
   "metadata": {},
   "outputs": [],
   "source": []
  }
 ],
 "metadata": {
  "kernelspec": {
   "display_name": "Python 3",
   "language": "python",
   "name": "python3"
  },
  "language_info": {
   "codemirror_mode": {
    "name": "ipython",
    "version": 3
   },
   "file_extension": ".py",
   "mimetype": "text/x-python",
   "name": "python",
   "nbconvert_exporter": "python",
   "pygments_lexer": "ipython3",
   "version": "3.7.6"
  }
 },
 "nbformat": 4,
 "nbformat_minor": 5
}
