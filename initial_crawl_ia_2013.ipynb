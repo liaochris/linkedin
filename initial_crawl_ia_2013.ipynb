{
 "cells": [
  {
   "cell_type": "code",
   "execution_count": 1,
   "id": "192ea94f",
   "metadata": {},
   "outputs": [],
   "source": [
    "import numpy as np\n",
    "import cdx_toolkit\n",
    "import os\n",
    "from joblib import Parallel, delayed"
   ]
  },
  {
   "cell_type": "code",
   "execution_count": 2,
   "id": "32c5d76c",
   "metadata": {},
   "outputs": [
    {
     "name": "stdout",
     "output_type": "stream",
     "text": [
      "Directory already made\n"
     ]
    }
   ],
   "source": [
    "try:\n",
    "    os.mkdir(\"ia\")\n",
    "except:\n",
    "    print(\"Directory already made\")"
   ]
  },
  {
   "cell_type": "code",
   "execution_count": 3,
   "id": "73c14f7c-4d45-4493-b29d-88f8fa709dae",
   "metadata": {},
   "outputs": [],
   "source": [
    "cdx = cdx_toolkit.CDXFetcher(source='ia')\n",
    "url = 'https://www.linkedin.com/in/*'"
   ]
  },
  {
   "cell_type": "code",
   "execution_count": 70,
   "id": "97858db1",
   "metadata": {
    "scrolled": true
   },
   "outputs": [
    {
     "name": "stdout",
     "output_type": "stream",
     "text": [
      "Year:2006, Total Extracted:18395, Total Unique: 4853\n",
      "Year:2007, Total Extracted:178980, Total Unique: 93252\n",
      "Year:2008, Total Extracted:358816, Total Unique: 219806\n",
      "Year:2009, Total Extracted:307525, Total Unique: 252939\n",
      "Year:2010, Total Extracted:266612, Total Unique: 219421\n",
      "Year:2011, Total Extracted:55756, Total Unique: 46736\n",
      "Year:2012, Total Extracted:3379, Total Unique: 1854\n",
      "Year:2013, Total Extracted:155244, Total Unique: 142690\n",
      "Year:2014, Total Extracted:101845, Total Unique: 87987\n",
      "Year:2015, Total Extracted:251763, Total Unique: 150178\n",
      "Year:2016, Total Extracted:103279, Total Unique: 89386\n"
     ]
    }
   ],
   "source": [
    "for year in np.arange(2006, 2017, 1):\n",
    "    lim = 1000000\n",
    "    objs = list(cdx.iter(url, from_ts=f'{year}01', to=f'{year+1}01', limit = lim, filter='status:200'))\n",
    "    \n",
    "    print(f\"Year:{year}, Total Extracted:{len(objs)}, Total Unique: {len(set([objs[i]['urlkey'] for i in range(len(objs))]))}\")"
   ]
  },
  {
   "cell_type": "code",
   "execution_count": null,
   "id": "95efeac8-7e08-4a61-9e46-3492e3383d7d",
   "metadata": {
    "tags": []
   },
   "outputs": [
    {
     "name": "stdout",
     "output_type": "stream",
     "text": [
      "Obtained 2013\n"
     ]
    },
    {
     "name": "stderr",
     "output_type": "stream",
     "text": [
      "11 failures for url https://web.archive.org/web/20130729195855id_/http%3A//www.linkedin.com/in/2020visual None: HTTPSConnectionPool(host='web.archive.org', port=443): Max retries exceeded with url: /web/20130729195855id_/http%3A//www.linkedin.com/in/2020visual (Caused by NewConnectionError('<urllib3.connection.HTTPSConnection object at 0x0000021B2ABF4880>: Failed to establish a new connection: [WinError 10060] A connection attempt failed because the connected party did not properly respond after a period of time, or established connection failed because connected host has failed to respond'))\n",
      "12 failures for url https://web.archive.org/web/20130729195855id_/http%3A//www.linkedin.com/in/2020visual None: HTTPSConnectionPool(host='web.archive.org', port=443): Max retries exceeded with url: /web/20130729195855id_/http%3A//www.linkedin.com/in/2020visual (Caused by NewConnectionError('<urllib3.connection.HTTPSConnection object at 0x0000021B2ABF8070>: Failed to establish a new connection: [WinError 10060] A connection attempt failed because the connected party did not properly respond after a period of time, or established connection failed because connected host has failed to respond'))\n",
      "13 failures for url https://web.archive.org/web/20130729195855id_/http%3A//www.linkedin.com/in/2020visual None: HTTPSConnectionPool(host='web.archive.org', port=443): Max retries exceeded with url: /web/20130729195855id_/http%3A//www.linkedin.com/in/2020visual (Caused by NewConnectionError('<urllib3.connection.HTTPSConnection object at 0x0000021B2ABF8820>: Failed to establish a new connection: [WinError 10060] A connection attempt failed because the connected party did not properly respond after a period of time, or established connection failed because connected host has failed to respond'))\n",
      "14 failures for url https://web.archive.org/web/20130729195855id_/http%3A//www.linkedin.com/in/2020visual None: HTTPSConnectionPool(host='web.archive.org', port=443): Max retries exceeded with url: /web/20130729195855id_/http%3A//www.linkedin.com/in/2020visual (Caused by NewConnectionError('<urllib3.connection.HTTPSConnection object at 0x0000021B29C00310>: Failed to establish a new connection: [WinError 10060] A connection attempt failed because the connected party did not properly respond after a period of time, or established connection failed because connected host has failed to respond'))\n",
      "15 failures for url https://web.archive.org/web/20130729195855id_/http%3A//www.linkedin.com/in/2020visual None: HTTPSConnectionPool(host='web.archive.org', port=443): Max retries exceeded with url: /web/20130729195855id_/http%3A//www.linkedin.com/in/2020visual (Caused by NewConnectionError('<urllib3.connection.HTTPSConnection object at 0x0000021B29C00EE0>: Failed to establish a new connection: [WinError 10060] A connection attempt failed because the connected party did not properly respond after a period of time, or established connection failed because connected host has failed to respond'))\n",
      "16 failures for url https://web.archive.org/web/20130729195855id_/http%3A//www.linkedin.com/in/2020visual None: HTTPSConnectionPool(host='web.archive.org', port=443): Max retries exceeded with url: /web/20130729195855id_/http%3A//www.linkedin.com/in/2020visual (Caused by NewConnectionError('<urllib3.connection.HTTPSConnection object at 0x0000021B2ABF8580>: Failed to establish a new connection: [WinError 10060] A connection attempt failed because the connected party did not properly respond after a period of time, or established connection failed because connected host has failed to respond'))\n",
      "17 failures for url https://web.archive.org/web/20130729195855id_/http%3A//www.linkedin.com/in/2020visual None: HTTPSConnectionPool(host='web.archive.org', port=443): Max retries exceeded with url: /web/20130729195855id_/http%3A//www.linkedin.com/in/2020visual (Caused by NewConnectionError('<urllib3.connection.HTTPSConnection object at 0x0000021B29C1E160>: Failed to establish a new connection: [WinError 10060] A connection attempt failed because the connected party did not properly respond after a period of time, or established connection failed because connected host has failed to respond'))\n",
      "18 failures for url https://web.archive.org/web/20130729195855id_/http%3A//www.linkedin.com/in/2020visual None: HTTPSConnectionPool(host='web.archive.org', port=443): Max retries exceeded with url: /web/20130729195855id_/http%3A//www.linkedin.com/in/2020visual (Caused by NewConnectionError('<urllib3.connection.HTTPSConnection object at 0x0000021B29C1E910>: Failed to establish a new connection: [WinError 10060] A connection attempt failed because the connected party did not properly respond after a period of time, or established connection failed because connected host has failed to respond'))\n",
      "19 failures for url https://web.archive.org/web/20130729195855id_/http%3A//www.linkedin.com/in/2020visual None: HTTPSConnectionPool(host='web.archive.org', port=443): Max retries exceeded with url: /web/20130729195855id_/http%3A//www.linkedin.com/in/2020visual (Caused by NewConnectionError('<urllib3.connection.HTTPSConnection object at 0x0000021B2ABF4130>: Failed to establish a new connection: [WinError 10060] A connection attempt failed because the connected party did not properly respond after a period of time, or established connection failed because connected host has failed to respond'))\n",
      "20 failures for url https://web.archive.org/web/20130729195855id_/http%3A//www.linkedin.com/in/2020visual None: HTTPSConnectionPool(host='web.archive.org', port=443): Max retries exceeded with url: /web/20130729195855id_/http%3A//www.linkedin.com/in/2020visual (Caused by NewConnectionError('<urllib3.connection.HTTPSConnection object at 0x0000021B2ABF48E0>: Failed to establish a new connection: [WinError 10060] A connection attempt failed because the connected party did not properly respond after a period of time, or established connection failed because connected host has failed to respond'))\n",
      "21 failures for url https://web.archive.org/web/20130729195855id_/http%3A//www.linkedin.com/in/2020visual None: HTTPSConnectionPool(host='web.archive.org', port=443): Max retries exceeded with url: /web/20130729195855id_/http%3A//www.linkedin.com/in/2020visual (Caused by NewConnectionError('<urllib3.connection.HTTPSConnection object at 0x0000021B2ABFE0D0>: Failed to establish a new connection: [WinError 10060] A connection attempt failed because the connected party did not properly respond after a period of time, or established connection failed because connected host has failed to respond'))\n",
      "22 failures for url https://web.archive.org/web/20130729195855id_/http%3A//www.linkedin.com/in/2020visual None: HTTPSConnectionPool(host='web.archive.org', port=443): Max retries exceeded with url: /web/20130729195855id_/http%3A//www.linkedin.com/in/2020visual (Caused by NewConnectionError('<urllib3.connection.HTTPSConnection object at 0x0000021B2ABF40D0>: Failed to establish a new connection: [WinError 10060] A connection attempt failed because the connected party did not properly respond after a period of time, or established connection failed because connected host has failed to respond'))\n",
      "23 failures for url https://web.archive.org/web/20130729195855id_/http%3A//www.linkedin.com/in/2020visual None: HTTPSConnectionPool(host='web.archive.org', port=443): Max retries exceeded with url: /web/20130729195855id_/http%3A//www.linkedin.com/in/2020visual (Caused by NewConnectionError('<urllib3.connection.HTTPSConnection object at 0x0000021B29C1E6D0>: Failed to establish a new connection: [WinError 10060] A connection attempt failed because the connected party did not properly respond after a period of time, or established connection failed because connected host has failed to respond'))\n",
      "24 failures for url https://web.archive.org/web/20130729195855id_/http%3A//www.linkedin.com/in/2020visual None: HTTPSConnectionPool(host='web.archive.org', port=443): Max retries exceeded with url: /web/20130729195855id_/http%3A//www.linkedin.com/in/2020visual (Caused by NewConnectionError('<urllib3.connection.HTTPSConnection object at 0x0000021B29C1E100>: Failed to establish a new connection: [WinError 10060] A connection attempt failed because the connected party did not properly respond after a period of time, or established connection failed because connected host has failed to respond'))\n",
      "25 failures for url https://web.archive.org/web/20130729195855id_/http%3A//www.linkedin.com/in/2020visual None: HTTPSConnectionPool(host='web.archive.org', port=443): Max retries exceeded with url: /web/20130729195855id_/http%3A//www.linkedin.com/in/2020visual (Caused by NewConnectionError('<urllib3.connection.HTTPSConnection object at 0x0000021B29C00AC0>: Failed to establish a new connection: [WinError 10060] A connection attempt failed because the connected party did not properly respond after a period of time, or established connection failed because connected host has failed to respond'))\n",
      "26 failures for url https://web.archive.org/web/20130729195855id_/http%3A//www.linkedin.com/in/2020visual None: HTTPSConnectionPool(host='web.archive.org', port=443): Max retries exceeded with url: /web/20130729195855id_/http%3A//www.linkedin.com/in/2020visual (Caused by NewConnectionError('<urllib3.connection.HTTPSConnection object at 0x0000021B29C00880>: Failed to establish a new connection: [WinError 10060] A connection attempt failed because the connected party did not properly respond after a period of time, or established connection failed because connected host has failed to respond'))\n",
      "27 failures for url https://web.archive.org/web/20130729195855id_/http%3A//www.linkedin.com/in/2020visual None: HTTPSConnectionPool(host='web.archive.org', port=443): Max retries exceeded with url: /web/20130729195855id_/http%3A//www.linkedin.com/in/2020visual (Caused by NewConnectionError('<urllib3.connection.HTTPSConnection object at 0x0000021B2ABFE8E0>: Failed to establish a new connection: [WinError 10060] A connection attempt failed because the connected party did not properly respond after a period of time, or established connection failed because connected host has failed to respond'))\n",
      "28 failures for url https://web.archive.org/web/20130729195855id_/http%3A//www.linkedin.com/in/2020visual None: HTTPSConnectionPool(host='web.archive.org', port=443): Max retries exceeded with url: /web/20130729195855id_/http%3A//www.linkedin.com/in/2020visual (Caused by NewConnectionError('<urllib3.connection.HTTPSConnection object at 0x0000021B2ABF8F40>: Failed to establish a new connection: [WinError 10060] A connection attempt failed because the connected party did not properly respond after a period of time, or established connection failed because connected host has failed to respond'))\n",
      "29 failures for url https://web.archive.org/web/20130729195855id_/http%3A//www.linkedin.com/in/2020visual None: HTTPSConnectionPool(host='web.archive.org', port=443): Max retries exceeded with url: /web/20130729195855id_/http%3A//www.linkedin.com/in/2020visual (Caused by NewConnectionError('<urllib3.connection.HTTPSConnection object at 0x0000021B29C00E50>: Failed to establish a new connection: [WinError 10060] A connection attempt failed because the connected party did not properly respond after a period of time, or established connection failed because connected host has failed to respond'))\n",
      "30 failures for url https://web.archive.org/web/20130729195855id_/http%3A//www.linkedin.com/in/2020visual None: HTTPSConnectionPool(host='web.archive.org', port=443): Max retries exceeded with url: /web/20130729195855id_/http%3A//www.linkedin.com/in/2020visual (Caused by NewConnectionError('<urllib3.connection.HTTPSConnection object at 0x0000021B29C1E220>: Failed to establish a new connection: [WinError 10060] A connection attempt failed because the connected party did not properly respond after a period of time, or established connection failed because connected host has failed to respond'))\n",
      "31 failures for url https://web.archive.org/web/20130729195855id_/http%3A//www.linkedin.com/in/2020visual None: HTTPSConnectionPool(host='web.archive.org', port=443): Max retries exceeded with url: /web/20130729195855id_/http%3A//www.linkedin.com/in/2020visual (Caused by NewConnectionError('<urllib3.connection.HTTPSConnection object at 0x0000021B29C1E460>: Failed to establish a new connection: [WinError 10060] A connection attempt failed because the connected party did not properly respond after a period of time, or established connection failed because connected host has failed to respond'))\n",
      "32 failures for url https://web.archive.org/web/20130729195855id_/http%3A//www.linkedin.com/in/2020visual None: HTTPSConnectionPool(host='web.archive.org', port=443): Max retries exceeded with url: /web/20130729195855id_/http%3A//www.linkedin.com/in/2020visual (Caused by NewConnectionError('<urllib3.connection.HTTPSConnection object at 0x0000021B2ABF44C0>: Failed to establish a new connection: [WinError 10060] A connection attempt failed because the connected party did not properly respond after a period of time, or established connection failed because connected host has failed to respond'))\n",
      "33 failures for url https://web.archive.org/web/20130729195855id_/http%3A//www.linkedin.com/in/2020visual None: HTTPSConnectionPool(host='web.archive.org', port=443): Max retries exceeded with url: /web/20130729195855id_/http%3A//www.linkedin.com/in/2020visual (Caused by NewConnectionError('<urllib3.connection.HTTPSConnection object at 0x0000021B2ABF4F70>: Failed to establish a new connection: [WinError 10060] A connection attempt failed because the connected party did not properly respond after a period of time, or established connection failed because connected host has failed to respond'))\n",
      "34 failures for url https://web.archive.org/web/20130729195855id_/http%3A//www.linkedin.com/in/2020visual None: HTTPSConnectionPool(host='web.archive.org', port=443): Max retries exceeded with url: /web/20130729195855id_/http%3A//www.linkedin.com/in/2020visual (Caused by NewConnectionError('<urllib3.connection.HTTPSConnection object at 0x0000021B2ABFE6D0>: Failed to establish a new connection: [WinError 10060] A connection attempt failed because the connected party did not properly respond after a period of time, or established connection failed because connected host has failed to respond'))\n",
      "35 failures for url https://web.archive.org/web/20130729195855id_/http%3A//www.linkedin.com/in/2020visual None: HTTPSConnectionPool(host='web.archive.org', port=443): Max retries exceeded with url: /web/20130729195855id_/http%3A//www.linkedin.com/in/2020visual (Caused by NewConnectionError('<urllib3.connection.HTTPSConnection object at 0x0000021B2ABFE0A0>: Failed to establish a new connection: [WinError 10060] A connection attempt failed because the connected party did not properly respond after a period of time, or established connection failed because connected host has failed to respond'))\n",
      "36 failures for url https://web.archive.org/web/20130729195855id_/http%3A//www.linkedin.com/in/2020visual None: HTTPSConnectionPool(host='web.archive.org', port=443): Max retries exceeded with url: /web/20130729195855id_/http%3A//www.linkedin.com/in/2020visual (Caused by NewConnectionError('<urllib3.connection.HTTPSConnection object at 0x0000021B2ABF4C40>: Failed to establish a new connection: [WinError 10060] A connection attempt failed because the connected party did not properly respond after a period of time, or established connection failed because connected host has failed to respond'))\n",
      "37 failures for url https://web.archive.org/web/20130729195855id_/http%3A//www.linkedin.com/in/2020visual None: HTTPSConnectionPool(host='web.archive.org', port=443): Max retries exceeded with url: /web/20130729195855id_/http%3A//www.linkedin.com/in/2020visual (Caused by NewConnectionError('<urllib3.connection.HTTPSConnection object at 0x0000021B2ABF45B0>: Failed to establish a new connection: [WinError 10060] A connection attempt failed because the connected party did not properly respond after a period of time, or established connection failed because connected host has failed to respond'))\n",
      "38 failures for url https://web.archive.org/web/20130729195855id_/http%3A//www.linkedin.com/in/2020visual None: HTTPSConnectionPool(host='web.archive.org', port=443): Max retries exceeded with url: /web/20130729195855id_/http%3A//www.linkedin.com/in/2020visual (Caused by NewConnectionError('<urllib3.connection.HTTPSConnection object at 0x0000021B29C1E340>: Failed to establish a new connection: [WinError 10060] A connection attempt failed because the connected party did not properly respond after a period of time, or established connection failed because connected host has failed to respond'))\n"
     ]
    }
   ],
   "source": [
    "for year in np.arange(2013, 2014, 1):\n",
    "    try:\n",
    "        os.mkdir(\"ia/\"+str(year))\n",
    "    except:\n",
    "        pass\n",
    "    \n",
    "    lim = 1000000\n",
    "    objs = list(cdx.iter(url, from_ts=f'{year}01', to=f'{year+1}01', limit = lim, filter='status:200'))\n",
    "    print(f\"Obtained {year}\")\n",
    "    storlist = []\n",
    "    j = 0\n",
    "\n",
    "    for i in range(len(objs)):\n",
    "        if objs[i]['urlkey'] not in storlist:\n",
    "            # Creating an HTML file\n",
    "            Func = open(f\"ia/{year}/Person{j+1}.html\",\"w\")\n",
    "            # Adding input data to the HTML file\n",
    "            try:\n",
    "                Func.write(objs[i].content.decode(\"utf-8\"))\n",
    "                j+=1\n",
    "            except:\n",
    "                pass\n",
    "                #print(f\"Failed saving {objs[i]['urlkey']}\")\n",
    "            Func.close()\n",
    "            storlist.append(objs[i]['urlkey'])\n",
    "\n",
    "    directory = f\"ia/{year}\"\n",
    "    print(f\"Finished {year}, Total saved: {len(os.listdir(directory))}\")"
   ]
  },
  {
   "cell_type": "code",
   "execution_count": 1,
   "id": "1e17e663",
   "metadata": {
    "collapsed": true,
    "jupyter": {
     "outputs_hidden": true
    },
    "scrolled": true,
    "tags": []
   },
   "outputs": [
    {
     "data": {
      "text/plain": [
       "'for year in np.arange(2007, 2017, 1):\\n    try:\\n        os.mkdir(\"ia/\"+str(year))\\n    except:\\n        pass\\n    \\n    lim = 1000000\\n    objs = list(cdx.iter(url, from_ts=f\\'{year}01\\', to=f\\'{year+1}01\\', limit = lim, filter=\\'status:200\\'))\\n    print(f\"Obtained {year}\")\\n    storlist = []\\n    j = 0\\n    \\n    def outputPersonIA(objs):\\n        global j\\n        global storlist\\n        if objs[\\'urlkey\\'] not in storlist:\\n            # Creating an HTML file\\n            Func = open(f\"ia/{year}/Person{j+1}.html\",\"w\")\\n            # Adding input data to the HTML file\\n            try:\\n                Func.write(objs.content.decode(\"utf-8\"))\\n                j+=1\\n            except:\\n                pass\\n                #print(f\"Failed saving {objs[i][\\'urlkey\\']}\")\\n            Func.close()\\n            storlist.append(objs[\\'urlkey\\'])\\n\\n    results = Parallel(n_jobs=2)(delayed(outputPersonIA)(objs[i]) for i in range(len(objs)))\\n        \\n    directory = f\"ia/{year}\"\\n    print(f\"Finished {year}, Total saved: {len(os.listdir(directory))}\")'"
      ]
     },
     "execution_count": 1,
     "metadata": {},
     "output_type": "execute_result"
    }
   ],
   "source": [
    "\"\"\"for year in np.arange(2007, 2017, 1):\n",
    "    try:\n",
    "        os.mkdir(\"ia/\"+str(year))\n",
    "    except:\n",
    "        pass\n",
    "    \n",
    "    lim = 1000000\n",
    "    objs = list(cdx.iter(url, from_ts=f'{year}01', to=f'{year+1}01', limit = lim, filter='status:200'))\n",
    "    print(f\"Obtained {year}\")\n",
    "    storlist = []\n",
    "    j = 0\n",
    "    \n",
    "    def outputPersonIA(objs):\n",
    "        global j\n",
    "        global storlist\n",
    "        if objs['urlkey'] not in storlist:\n",
    "            # Creating an HTML file\n",
    "            Func = open(f\"ia/{year}/Person{j+1}.html\",\"w\")\n",
    "            # Adding input data to the HTML file\n",
    "            try:\n",
    "                Func.write(objs.content.decode(\"utf-8\"))\n",
    "                j+=1\n",
    "            except:\n",
    "                pass\n",
    "                #print(f\"Failed saving {objs[i]['urlkey']}\")\n",
    "            Func.close()\n",
    "            storlist.append(objs['urlkey'])\n",
    "\n",
    "    results = Parallel(n_jobs=2)(delayed(outputPersonIA)(objs[i]) for i in range(len(objs)))\n",
    "        \n",
    "    directory = f\"ia/{year}\"\n",
    "    print(f\"Finished {year}, Total saved: {len(os.listdir(directory))}\")\"\"\""
   ]
  },
  {
   "cell_type": "code",
   "execution_count": null,
   "id": "46a884f5-b567-4b7c-bd0a-39712bf23629",
   "metadata": {},
   "outputs": [],
   "source": []
  }
 ],
 "metadata": {
  "kernelspec": {
   "display_name": "Python 3 (ipykernel)",
   "language": "python",
   "name": "python3"
  },
  "language_info": {
   "codemirror_mode": {
    "name": "ipython",
    "version": 3
   },
   "file_extension": ".py",
   "mimetype": "text/x-python",
   "name": "python",
   "nbconvert_exporter": "python",
   "pygments_lexer": "ipython3",
   "version": "3.9.12"
  }
 },
 "nbformat": 4,
 "nbformat_minor": 5
}
