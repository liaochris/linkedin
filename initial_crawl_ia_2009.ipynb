{
 "cells": [
  {
   "cell_type": "code",
   "execution_count": 1,
   "id": "192ea94f",
   "metadata": {},
   "outputs": [],
   "source": [
    "import numpy as np\n",
    "import cdx_toolkit\n",
    "import os\n",
    "from joblib import Parallel, delayed"
   ]
  },
  {
   "cell_type": "code",
   "execution_count": 2,
   "id": "32c5d76c",
   "metadata": {},
   "outputs": [
    {
     "name": "stdout",
     "output_type": "stream",
     "text": [
      "Directory already made\n"
     ]
    }
   ],
   "source": [
    "try:\n",
    "    os.mkdir(\"ia\")\n",
    "except:\n",
    "    print(\"Directory already made\")"
   ]
  },
  {
   "cell_type": "code",
   "execution_count": 3,
   "id": "73c14f7c-4d45-4493-b29d-88f8fa709dae",
   "metadata": {},
   "outputs": [],
   "source": [
    "cdx = cdx_toolkit.CDXFetcher(source='ia')\n",
    "url = 'https://www.linkedin.com/in/*'"
   ]
  },
  {
   "cell_type": "code",
   "execution_count": 70,
   "id": "97858db1",
   "metadata": {
    "scrolled": true
   },
   "outputs": [
    {
     "name": "stdout",
     "output_type": "stream",
     "text": [
      "Year:2006, Total Extracted:18395, Total Unique: 4853\n",
      "Year:2007, Total Extracted:178980, Total Unique: 93252\n",
      "Year:2008, Total Extracted:358816, Total Unique: 219806\n",
      "Year:2009, Total Extracted:307525, Total Unique: 252939\n",
      "Year:2010, Total Extracted:266612, Total Unique: 219421\n",
      "Year:2011, Total Extracted:55756, Total Unique: 46736\n",
      "Year:2012, Total Extracted:3379, Total Unique: 1854\n",
      "Year:2013, Total Extracted:155244, Total Unique: 142690\n",
      "Year:2014, Total Extracted:101845, Total Unique: 87987\n",
      "Year:2015, Total Extracted:251763, Total Unique: 150178\n",
      "Year:2016, Total Extracted:103279, Total Unique: 89386\n"
     ]
    }
   ],
   "source": [
    "for year in np.arange(2006, 2017, 1):\n",
    "    lim = 1000000\n",
    "    objs = list(cdx.iter(url, from_ts=f'{year}01', to=f'{year+1}01', limit = lim, filter='status:200'))\n",
    "    \n",
    "    print(f\"Year:{year}, Total Extracted:{len(objs)}, Total Unique: {len(set([objs[i]['urlkey'] for i in range(len(objs))]))}\")"
   ]
  },
  {
   "cell_type": "code",
   "execution_count": null,
   "id": "95efeac8-7e08-4a61-9e46-3492e3383d7d",
   "metadata": {
    "tags": []
   },
   "outputs": [
    {
     "name": "stderr",
     "output_type": "stream",
     "text": [
      "retrying after 1s for 429\n",
      "retrying after 1s for 429\n",
      "retrying after 1s for 429\n"
     ]
    },
    {
     "name": "stdout",
     "output_type": "stream",
     "text": [
      "Obtained 2009\n"
     ]
    }
   ],
   "source": [
    "for year in np.arange(2009, 2010, 1):\n",
    "    try:\n",
    "        os.mkdir(\"ia/\"+str(year))\n",
    "    except:\n",
    "        pass\n",
    "    \n",
    "    lim = 1000000\n",
    "    objs = list(cdx.iter(url, from_ts=f'{year}01', to=f'{year+1}01', limit = lim, filter='status:200'))\n",
    "    print(f\"Obtained {year}\")\n",
    "    storlist = []\n",
    "    j = 0\n",
    "\n",
    "    for i in range(len(objs)):\n",
    "        if objs[i]['urlkey'] not in storlist:\n",
    "            # Creating an HTML file\n",
    "            Func = open(f\"ia/{year}/Person{j+1}.html\",\"w\")\n",
    "            # Adding input data to the HTML file\n",
    "            try:\n",
    "                Func.write(objs[i].content.decode(\"utf-8\"))\n",
    "                j+=1\n",
    "            except:\n",
    "                pass\n",
    "                #print(f\"Failed saving {objs[i]['urlkey']}\")\n",
    "            Func.close()\n",
    "            storlist.append(objs[i]['urlkey'])\n",
    "\n",
    "    directory = f\"ia/{year}\"\n",
    "    print(f\"Finished {year}, Total saved: {len(os.listdir(directory))}\")"
   ]
  },
  {
   "cell_type": "code",
   "execution_count": 1,
   "id": "1e17e663",
   "metadata": {
    "collapsed": true,
    "jupyter": {
     "outputs_hidden": true
    },
    "scrolled": true,
    "tags": []
   },
   "outputs": [
    {
     "data": {
      "text/plain": [
       "'for year in np.arange(2007, 2017, 1):\\n    try:\\n        os.mkdir(\"ia/\"+str(year))\\n    except:\\n        pass\\n    \\n    lim = 1000000\\n    objs = list(cdx.iter(url, from_ts=f\\'{year}01\\', to=f\\'{year+1}01\\', limit = lim, filter=\\'status:200\\'))\\n    print(f\"Obtained {year}\")\\n    storlist = []\\n    j = 0\\n    \\n    def outputPersonIA(objs):\\n        global j\\n        global storlist\\n        if objs[\\'urlkey\\'] not in storlist:\\n            # Creating an HTML file\\n            Func = open(f\"ia/{year}/Person{j+1}.html\",\"w\")\\n            # Adding input data to the HTML file\\n            try:\\n                Func.write(objs.content.decode(\"utf-8\"))\\n                j+=1\\n            except:\\n                pass\\n                #print(f\"Failed saving {objs[i][\\'urlkey\\']}\")\\n            Func.close()\\n            storlist.append(objs[\\'urlkey\\'])\\n\\n    results = Parallel(n_jobs=2)(delayed(outputPersonIA)(objs[i]) for i in range(len(objs)))\\n        \\n    directory = f\"ia/{year}\"\\n    print(f\"Finished {year}, Total saved: {len(os.listdir(directory))}\")'"
      ]
     },
     "execution_count": 1,
     "metadata": {},
     "output_type": "execute_result"
    }
   ],
   "source": [
    "\"\"\"for year in np.arange(2007, 2017, 1):\n",
    "    try:\n",
    "        os.mkdir(\"ia/\"+str(year))\n",
    "    except:\n",
    "        pass\n",
    "    \n",
    "    lim = 1000000\n",
    "    objs = list(cdx.iter(url, from_ts=f'{year}01', to=f'{year+1}01', limit = lim, filter='status:200'))\n",
    "    print(f\"Obtained {year}\")\n",
    "    storlist = []\n",
    "    j = 0\n",
    "    \n",
    "    def outputPersonIA(objs):\n",
    "        global j\n",
    "        global storlist\n",
    "        if objs['urlkey'] not in storlist:\n",
    "            # Creating an HTML file\n",
    "            Func = open(f\"ia/{year}/Person{j+1}.html\",\"w\")\n",
    "            # Adding input data to the HTML file\n",
    "            try:\n",
    "                Func.write(objs.content.decode(\"utf-8\"))\n",
    "                j+=1\n",
    "            except:\n",
    "                pass\n",
    "                #print(f\"Failed saving {objs[i]['urlkey']}\")\n",
    "            Func.close()\n",
    "            storlist.append(objs['urlkey'])\n",
    "\n",
    "    results = Parallel(n_jobs=2)(delayed(outputPersonIA)(objs[i]) for i in range(len(objs)))\n",
    "        \n",
    "    directory = f\"ia/{year}\"\n",
    "    print(f\"Finished {year}, Total saved: {len(os.listdir(directory))}\")\"\"\""
   ]
  },
  {
   "cell_type": "code",
   "execution_count": null,
   "id": "46a884f5-b567-4b7c-bd0a-39712bf23629",
   "metadata": {},
   "outputs": [],
   "source": []
  }
 ],
 "metadata": {
  "kernelspec": {
   "display_name": "Python 3 (ipykernel)",
   "language": "python",
   "name": "python3"
  },
  "language_info": {
   "codemirror_mode": {
    "name": "ipython",
    "version": 3
   },
   "file_extension": ".py",
   "mimetype": "text/x-python",
   "name": "python",
   "nbconvert_exporter": "python",
   "pygments_lexer": "ipython3",
   "version": "3.9.12"
  }
 },
 "nbformat": 4,
 "nbformat_minor": 5
}
