{
 "cells": [
  {
   "cell_type": "code",
   "execution_count": 7,
   "id": "5b88ca09",
   "metadata": {},
   "outputs": [],
   "source": [
    "import numpy as np\n",
    "import cdx_toolkit\n",
    "import os\n",
    "from joblib import Parallel, delayed"
   ]
  },
  {
   "cell_type": "code",
   "execution_count": null,
   "id": "d037f172-22ea-4e3d-99e9-2d630fe712ee",
   "metadata": {},
   "outputs": [],
   "source": [
    "try:\n",
    "    os.mkdir(\"cc\")\n",
    "except:\n",
    "    print(\"Directory already made\")"
   ]
  },
  {
   "cell_type": "code",
   "execution_count": 12,
   "id": "c6dc4a95-9d58-498a-bf37-8c8b6fa228e3",
   "metadata": {},
   "outputs": [],
   "source": [
    "cdx = cdx_toolkit.CDXFetcher(source='cc')\n",
    "url = 'https://www.linkedin.com/in/*'"
   ]
  },
  {
   "cell_type": "code",
   "execution_count": 13,
   "id": "3091b5de-5de9-40fe-a1e1-cd4b7c6058a8",
   "metadata": {},
   "outputs": [
    {
     "name": "stdout",
     "output_type": "stream",
     "text": [
      "Year:2006, Total Extracted:0, Total Unique: 0\n",
      "Year:2007, Total Extracted:0, Total Unique: 0\n",
      "Year:2008, Total Extracted:47241, Total Unique: 47129\n",
      "Year:2009, Total Extracted:625979, Total Unique: 512906\n",
      "Year:2010, Total Extracted:22357, Total Unique: 21583\n",
      "Year:2011, Total Extracted:1004, Total Unique: 932\n",
      "Year:2012, Total Extracted:151276, Total Unique: 113305\n",
      "Year:2013, Total Extracted:1848, Total Unique: 786\n",
      "Year:2014, Total Extracted:46393, Total Unique: 39724\n",
      "Year:2015, Total Extracted:429, Total Unique: 165\n",
      "Year:2016, Total Extracted:1121, Total Unique: 10\n",
      "Year:2017, Total Extracted:2867, Total Unique: 727\n",
      "Year:2018, Total Extracted:4713, Total Unique: 3043\n",
      "Year:2019, Total Extracted:1925, Total Unique: 151\n",
      "Year:2020, Total Extracted:1224, Total Unique: 66\n",
      "Year:2021, Total Extracted:674, Total Unique: 60\n",
      "Year:2022, Total Extracted:8, Total Unique: 1\n"
     ]
    }
   ],
   "source": [
    "for year in np.arange(2006, 2023, 1):\n",
    "    lim = 1000000\n",
    "    objs = list(cdx.iter(url, from_ts=f'{year}01', to=f'{year+1}01', limit = lim, filter='=status:200'))\n",
    "    \n",
    "    print(f\"Year:{year}, Total Extracted:{len(objs)}, Total Unique: {len(set([objs[i]['urlkey'] for i in range(len(objs))]))}\")"
   ]
  },
  {
   "cell_type": "code",
   "execution_count": 10,
   "id": "bc57de19",
   "metadata": {},
   "outputs": [
    {
     "name": "stdout",
     "output_type": "stream",
     "text": [
      "Year:2006, Total Extracted:0, Total Unique: 0\n",
      "Year:2007, Total Extracted:0, Total Unique: 0\n",
      "Year:2008, Total Extracted:27804, Total Unique: 27717\n",
      "Year:2009, Total Extracted:188096, Total Unique: 106775\n",
      "Year:2010, Total Extracted:4686, Total Unique: 4182\n",
      "Year:2011, Total Extracted:882, Total Unique: 817\n",
      "Year:2012, Total Extracted:10205, Total Unique: 7614\n",
      "Year:2013, Total Extracted:1200, Total Unique: 559\n",
      "Year:2014, Total Extracted:7567, Total Unique: 5772\n",
      "Year:2015, Total Extracted:2, Total Unique: 2\n",
      "Year:2016, Total Extracted:0, Total Unique: 0\n",
      "Year:2017, Total Extracted:1, Total Unique: 1\n",
      "Year:2018, Total Extracted:1, Total Unique: 1\n",
      "Year:2019, Total Extracted:14, Total Unique: 14\n",
      "Year:2020, Total Extracted:2, Total Unique: 2\n",
      "Year:2021, Total Extracted:13, Total Unique: 13\n",
      "Year:2022, Total Extracted:0, Total Unique: 0\n"
     ]
    }
   ],
   "source": [
    "for year in np.arange(2006, 2023, 1):\n",
    "    lim = 1000000\n",
    "    objs = list(cdx.iter(url, from_ts=f'{year}01', to=f'{year+1}01', limit = lim, filter='=status:200'))\n",
    "    \n",
    "    print(f\"Year:{year}, Total Extracted:{len(objs)}, Total Unique: {len(set([objs[i]['urlkey'] for i in range(len(objs))]))}\")"
   ]
  },
  {
   "cell_type": "code",
   "execution_count": 11,
   "id": "abfe734b",
   "metadata": {
    "scrolled": true
   },
   "outputs": [
    {
     "name": "stdout",
     "output_type": "stream",
     "text": [
      "Obtained 2016\n",
      "Finished 2016, Total saved: 0\n",
      "Obtained 2017\n",
      "Finished 2017, Total saved: 1\n",
      "Obtained 2018\n",
      "Finished 2018, Total saved: 1\n",
      "Obtained 2019\n",
      "Finished 2019, Total saved: 1\n",
      "Obtained 2020\n",
      "Finished 2020, Total saved: 1\n",
      "Obtained 2021\n",
      "Finished 2021, Total saved: 1\n",
      "Obtained 2022\n",
      "Finished 2022, Total saved: 0\n"
     ]
    }
   ],
   "source": [
    "for year in np.arange(2016, 2023, 1):\n",
    "    try:\n",
    "        os.mkdir(\"cc/\"+str(year))\n",
    "    except:\n",
    "        pass\n",
    "    \n",
    "    lim = 1000000\n",
    "    objs = list(cdx.iter(url, from_ts=f'{year}01', to=f'{year+1}01', limit = lim, filter='status:200'))\n",
    "    print(f\"Obtained {year}\")\n",
    "    storlist = []\n",
    "    j = 0\n",
    "\n",
    "    for i in range(len(objs)):\n",
    "        if objs[i]['urlkey'] not in storlist:\n",
    "            # Creating an HTML file\n",
    "            Func = open(f\"cc/{year}/Person{j+1}.html\",\"w\")\n",
    "            # Adding input data to the HTML file\n",
    "            try:\n",
    "                Func.write(objs[i].content.decode(\"utf-8\"))\n",
    "                j+=1\n",
    "            except:\n",
    "                pass\n",
    "                #print(f\"Failed saving {objs[i]['urlkey']}\")\n",
    "            Func.close()\n",
    "            storlist.append(objs[i]['urlkey'])\n",
    "\n",
    "    directory = f\"cc/{year}\"\n",
    "    print(f\"Finished {year}, Total saved: {len(os.listdir(directory))}\")"
   ]
  },
  {
   "cell_type": "code",
   "execution_count": null,
   "id": "d30aab4e-d1e2-42da-bcec-a3f90b63e20b",
   "metadata": {},
   "outputs": [],
   "source": []
  }
 ],
 "metadata": {
  "kernelspec": {
   "display_name": "Python 3 (ipykernel)",
   "language": "python",
   "name": "python3"
  },
  "language_info": {
   "codemirror_mode": {
    "name": "ipython",
    "version": 3
   },
   "file_extension": ".py",
   "mimetype": "text/x-python",
   "name": "python",
   "nbconvert_exporter": "python",
   "pygments_lexer": "ipython3",
   "version": "3.9.12"
  }
 },
 "nbformat": 4,
 "nbformat_minor": 5
}
